{
 "cells": [
  {
   "cell_type": "code",
   "execution_count": 211,
   "id": "b6971d4d-e880-44aa-b173-6378f373a4bc",
   "metadata": {
    "slideshow": {
     "slide_type": "slide"
    }
   },
   "outputs": [],
   "source": [
    "# Plotting\n",
    "import matplotlib as mpl\n",
    "import matplotlib.pyplot as plt\n",
    "%matplotlib inline\n",
    "\n",
    "# OS\n",
    "import os\n",
    "\n",
    "# Math\n",
    "import numpy as np\n",
    "\n",
    "# Paths\n",
    "path = './data/'\n",
    "pathout = './data/'\n",
    "pathgraphs = './graphs/'\n",
    "\n",
    "for p in [path, pathout, pathgraphs]:\n",
    "    if os.path.exists(p)==False:\n",
    "        os.mkdir(p)"
   ]
  },
  {
   "cell_type": "code",
   "execution_count": 45,
   "id": "d3f8272b-ca66-43bb-a2bc-cea3a91b6a53",
   "metadata": {
    "slideshow": {
     "slide_type": "subslide"
    }
   },
   "outputs": [],
   "source": [
    "import pandas as pd\n",
    "\n"
   ]
  },
  {
   "cell_type": "markdown",
   "id": "bdfa1c95-3e6c-4dc4-ab32-028805a93250",
   "metadata": {
    "slideshow": {
     "slide_type": "slide"
    },
    "user_expressions": []
   },
   "source": [
    "Exercise 1: Create a new dataframe pop with population data downloaded from Wikipedia. Make sure to clean the data so it can be used further."
   ]
  },
  {
   "cell_type": "code",
   "execution_count": 46,
   "id": "a9fec629-2c8b-4159-821c-b0bd43acdafc",
   "metadata": {
    "slideshow": {
     "slide_type": "subslide"
    }
   },
   "outputs": [
    {
     "data": {
      "text/html": [
       "\n",
       "        <iframe\n",
       "            width=\"800\"\n",
       "            height=\"400\"\n",
       "            src=\"https://en.wikipedia.org/wiki/List_of_countries_by_population_(United_Nations)\"\n",
       "            frameborder=\"0\"\n",
       "            allowfullscreen\n",
       "            \n",
       "        ></iframe>\n",
       "        "
      ],
      "text/plain": [
       "<IPython.lib.display.IFrame at 0x11a1f7fa0>"
      ]
     },
     "execution_count": 46,
     "metadata": {},
     "output_type": "execute_result"
    }
   ],
   "source": [
    "from IPython.display import IFrame\n",
    "url = 'https://en.wikipedia.org/wiki/List_of_countries_by_population_(United_Nations)'\n",
    "IFrame(url, width=800, height=400)"
   ]
  },
  {
   "cell_type": "code",
   "execution_count": 47,
   "id": "a7183739-fde6-4158-b364-d8ad63a435ed",
   "metadata": {
    "slideshow": {
     "slide_type": "subslide"
    }
   },
   "outputs": [
    {
     "data": {
      "text/html": [
       "<div>\n",
       "<style scoped>\n",
       "    .dataframe tbody tr th:only-of-type {\n",
       "        vertical-align: middle;\n",
       "    }\n",
       "\n",
       "    .dataframe tbody tr th {\n",
       "        vertical-align: top;\n",
       "    }\n",
       "\n",
       "    .dataframe thead th {\n",
       "        text-align: right;\n",
       "    }\n",
       "</style>\n",
       "<table border=\"1\" class=\"dataframe\">\n",
       "  <thead>\n",
       "    <tr style=\"text-align: right;\">\n",
       "      <th></th>\n",
       "      <th>Country / Area</th>\n",
       "      <th>UN continentalregion[4]</th>\n",
       "      <th>UN statisticalsubregion[4]</th>\n",
       "      <th>Population(1 July 2018)</th>\n",
       "      <th>Population(1 July 2019)</th>\n",
       "      <th>Change</th>\n",
       "    </tr>\n",
       "  </thead>\n",
       "  <tbody>\n",
       "    <tr>\n",
       "      <th>0</th>\n",
       "      <td>China[a]</td>\n",
       "      <td>Asia</td>\n",
       "      <td>Eastern Asia</td>\n",
       "      <td>1427647786</td>\n",
       "      <td>1433783686</td>\n",
       "      <td>+0.43%</td>\n",
       "    </tr>\n",
       "    <tr>\n",
       "      <th>1</th>\n",
       "      <td>India</td>\n",
       "      <td>Asia</td>\n",
       "      <td>Southern Asia</td>\n",
       "      <td>1352642280</td>\n",
       "      <td>1366417754</td>\n",
       "      <td>+1.02%</td>\n",
       "    </tr>\n",
       "    <tr>\n",
       "      <th>2</th>\n",
       "      <td>United States</td>\n",
       "      <td>Americas</td>\n",
       "      <td>Northern America</td>\n",
       "      <td>327096265</td>\n",
       "      <td>329064917</td>\n",
       "      <td>+0.60%</td>\n",
       "    </tr>\n",
       "    <tr>\n",
       "      <th>3</th>\n",
       "      <td>Indonesia</td>\n",
       "      <td>Asia</td>\n",
       "      <td>South-eastern Asia</td>\n",
       "      <td>267670543</td>\n",
       "      <td>270625568</td>\n",
       "      <td>+1.10%</td>\n",
       "    </tr>\n",
       "    <tr>\n",
       "      <th>4</th>\n",
       "      <td>Pakistan</td>\n",
       "      <td>Asia</td>\n",
       "      <td>Southern Asia</td>\n",
       "      <td>212228286</td>\n",
       "      <td>216565318</td>\n",
       "      <td>+2.04%</td>\n",
       "    </tr>\n",
       "    <tr>\n",
       "      <th>...</th>\n",
       "      <td>...</td>\n",
       "      <td>...</td>\n",
       "      <td>...</td>\n",
       "      <td>...</td>\n",
       "      <td>...</td>\n",
       "      <td>...</td>\n",
       "    </tr>\n",
       "    <tr>\n",
       "      <th>229</th>\n",
       "      <td>Falkland Islands (United Kingdom)</td>\n",
       "      <td>Americas</td>\n",
       "      <td>South America</td>\n",
       "      <td>3234</td>\n",
       "      <td>3377</td>\n",
       "      <td>+4.42%</td>\n",
       "    </tr>\n",
       "    <tr>\n",
       "      <th>230</th>\n",
       "      <td>Niue</td>\n",
       "      <td>Oceania</td>\n",
       "      <td>Polynesia</td>\n",
       "      <td>1620</td>\n",
       "      <td>1615</td>\n",
       "      <td>−0.31%</td>\n",
       "    </tr>\n",
       "    <tr>\n",
       "      <th>231</th>\n",
       "      <td>Tokelau (New Zealand)</td>\n",
       "      <td>Oceania</td>\n",
       "      <td>Polynesia</td>\n",
       "      <td>1319</td>\n",
       "      <td>1340</td>\n",
       "      <td>+1.59%</td>\n",
       "    </tr>\n",
       "    <tr>\n",
       "      <th>232</th>\n",
       "      <td>Vatican City[z]</td>\n",
       "      <td>Europe</td>\n",
       "      <td>Southern Europe</td>\n",
       "      <td>801</td>\n",
       "      <td>799</td>\n",
       "      <td>−0.25%</td>\n",
       "    </tr>\n",
       "    <tr>\n",
       "      <th>233</th>\n",
       "      <td>World</td>\n",
       "      <td>NaN</td>\n",
       "      <td>NaN</td>\n",
       "      <td>7631091040</td>\n",
       "      <td>7713468100</td>\n",
       "      <td>+1.08%</td>\n",
       "    </tr>\n",
       "  </tbody>\n",
       "</table>\n",
       "<p>234 rows × 6 columns</p>\n",
       "</div>"
      ],
      "text/plain": [
       "                        Country / Area UN continentalregion[4]  \\\n",
       "0                             China[a]                    Asia   \n",
       "1                                India                    Asia   \n",
       "2                        United States                Americas   \n",
       "3                            Indonesia                    Asia   \n",
       "4                             Pakistan                    Asia   \n",
       "..                                 ...                     ...   \n",
       "229  Falkland Islands (United Kingdom)                Americas   \n",
       "230                               Niue                 Oceania   \n",
       "231              Tokelau (New Zealand)                 Oceania   \n",
       "232                    Vatican City[z]                  Europe   \n",
       "233                              World                     NaN   \n",
       "\n",
       "    UN statisticalsubregion[4]  Population(1 July 2018)  \\\n",
       "0                 Eastern Asia               1427647786   \n",
       "1                Southern Asia               1352642280   \n",
       "2             Northern America                327096265   \n",
       "3           South-eastern Asia                267670543   \n",
       "4                Southern Asia                212228286   \n",
       "..                         ...                      ...   \n",
       "229              South America                     3234   \n",
       "230                  Polynesia                     1620   \n",
       "231                  Polynesia                     1319   \n",
       "232            Southern Europe                      801   \n",
       "233                        NaN               7631091040   \n",
       "\n",
       "     Population(1 July 2019)  Change  \n",
       "0                 1433783686  +0.43%  \n",
       "1                 1366417754  +1.02%  \n",
       "2                  329064917  +0.60%  \n",
       "3                  270625568  +1.10%  \n",
       "4                  216565318  +2.04%  \n",
       "..                       ...     ...  \n",
       "229                     3377  +4.42%  \n",
       "230                     1615  −0.31%  \n",
       "231                     1340  +1.59%  \n",
       "232                      799  −0.25%  \n",
       "233               7713468100  +1.08%  \n",
       "\n",
       "[234 rows x 6 columns]"
      ]
     },
     "execution_count": 47,
     "metadata": {},
     "output_type": "execute_result"
    }
   ],
   "source": [
    "pop = pd.read_html(url, encoding='utf-8')[0]\n",
    "pop"
   ]
  },
  {
   "cell_type": "code",
   "execution_count": 48,
   "id": "e6d552ef-41f2-4d72-80c1-1178252a27ca",
   "metadata": {
    "slideshow": {
     "slide_type": "subslide"
    }
   },
   "outputs": [
    {
     "data": {
      "text/html": [
       "<div>\n",
       "<style scoped>\n",
       "    .dataframe tbody tr th:only-of-type {\n",
       "        vertical-align: middle;\n",
       "    }\n",
       "\n",
       "    .dataframe tbody tr th {\n",
       "        vertical-align: top;\n",
       "    }\n",
       "\n",
       "    .dataframe thead th {\n",
       "        text-align: right;\n",
       "    }\n",
       "</style>\n",
       "<table border=\"1\" class=\"dataframe\">\n",
       "  <thead>\n",
       "    <tr style=\"text-align: right;\">\n",
       "      <th></th>\n",
       "      <th>Country/Area</th>\n",
       "      <th>UN Continental Region</th>\n",
       "      <th>UN Statistical Subregion</th>\n",
       "      <th>Population 2018</th>\n",
       "      <th>Population 2019</th>\n",
       "      <th>% Change</th>\n",
       "    </tr>\n",
       "  </thead>\n",
       "  <tbody>\n",
       "    <tr>\n",
       "      <th>0</th>\n",
       "      <td>China[a]</td>\n",
       "      <td>Asia</td>\n",
       "      <td>Eastern Asia</td>\n",
       "      <td>1427647786</td>\n",
       "      <td>1433783686</td>\n",
       "      <td>+0.43%</td>\n",
       "    </tr>\n",
       "    <tr>\n",
       "      <th>1</th>\n",
       "      <td>India</td>\n",
       "      <td>Asia</td>\n",
       "      <td>Southern Asia</td>\n",
       "      <td>1352642280</td>\n",
       "      <td>1366417754</td>\n",
       "      <td>+1.02%</td>\n",
       "    </tr>\n",
       "    <tr>\n",
       "      <th>2</th>\n",
       "      <td>United States</td>\n",
       "      <td>Americas</td>\n",
       "      <td>Northern America</td>\n",
       "      <td>327096265</td>\n",
       "      <td>329064917</td>\n",
       "      <td>+0.60%</td>\n",
       "    </tr>\n",
       "    <tr>\n",
       "      <th>3</th>\n",
       "      <td>Indonesia</td>\n",
       "      <td>Asia</td>\n",
       "      <td>South-eastern Asia</td>\n",
       "      <td>267670543</td>\n",
       "      <td>270625568</td>\n",
       "      <td>+1.10%</td>\n",
       "    </tr>\n",
       "    <tr>\n",
       "      <th>4</th>\n",
       "      <td>Pakistan</td>\n",
       "      <td>Asia</td>\n",
       "      <td>Southern Asia</td>\n",
       "      <td>212228286</td>\n",
       "      <td>216565318</td>\n",
       "      <td>+2.04%</td>\n",
       "    </tr>\n",
       "  </tbody>\n",
       "</table>\n",
       "</div>"
      ],
      "text/plain": [
       "    Country/Area UN Continental Region UN Statistical Subregion  \\\n",
       "0       China[a]                  Asia             Eastern Asia   \n",
       "1          India                  Asia            Southern Asia   \n",
       "2  United States              Americas         Northern America   \n",
       "3      Indonesia                  Asia       South-eastern Asia   \n",
       "4       Pakistan                  Asia            Southern Asia   \n",
       "\n",
       "   Population 2018  Population 2019 % Change  \n",
       "0       1427647786       1433783686   +0.43%  \n",
       "1       1352642280       1366417754   +1.02%  \n",
       "2        327096265        329064917   +0.60%  \n",
       "3        267670543        270625568   +1.10%  \n",
       "4        212228286        216565318   +2.04%  "
      ]
     },
     "execution_count": 48,
     "metadata": {},
     "output_type": "execute_result"
    }
   ],
   "source": [
    "pop.columns = ['Country/Area', 'UN Continental Region', 'UN Statistical Subregion', 'Population 2018',\n",
    "                      'Population 2019', '% Change']\n",
    "pop.head()"
   ]
  },
  {
   "cell_type": "code",
   "execution_count": 49,
   "id": "053a502c-39b4-420f-89b2-5df2f3d27392",
   "metadata": {
    "slideshow": {
     "slide_type": "subslide"
    }
   },
   "outputs": [
    {
     "data": {
      "text/plain": [
       "Country/Area                object\n",
       "UN Continental Region       object\n",
       "UN Statistical Subregion    object\n",
       "Population 2018              int64\n",
       "Population 2019              int64\n",
       "% Change                    object\n",
       "dtype: object"
      ]
     },
     "execution_count": 49,
     "metadata": {},
     "output_type": "execute_result"
    }
   ],
   "source": [
    "pop.dtypes"
   ]
  },
  {
   "cell_type": "code",
   "execution_count": null,
   "id": "c7f721d6-6094-4aa1-b6bf-847d7b15d702",
   "metadata": {
    "slideshow": {
     "slide_type": "skip"
    }
   },
   "outputs": [],
   "source": []
  },
  {
   "cell_type": "code",
   "execution_count": 50,
   "id": "ddd0eb30-ce30-426f-a29d-5e0fa0b6d5a7",
   "metadata": {
    "slideshow": {
     "slide_type": "subslide"
    }
   },
   "outputs": [
    {
     "data": {
      "text/plain": [
       "Country/Area                object\n",
       "UN Continental Region       object\n",
       "UN Statistical Subregion    object\n",
       "Population 2018              int64\n",
       "Population 2019              int64\n",
       "% Change                    object\n",
       "dtype: object"
      ]
     },
     "execution_count": 50,
     "metadata": {},
     "output_type": "execute_result"
    }
   ],
   "source": [
    "pop.dtypes"
   ]
  },
  {
   "cell_type": "code",
   "execution_count": 51,
   "id": "5dd22f1c-1db1-4029-941b-5a83c07f9b85",
   "metadata": {
    "slideshow": {
     "slide_type": "subslide"
    }
   },
   "outputs": [
    {
     "data": {
      "text/html": [
       "\n",
       "        <iframe\n",
       "            width=\"800\"\n",
       "            height=\"400\"\n",
       "            src=\"https://en.wikipedia.org/wiki/List_of_ISO_3166_country_codes\"\n",
       "            frameborder=\"0\"\n",
       "            allowfullscreen\n",
       "            \n",
       "        ></iframe>\n",
       "        "
      ],
      "text/plain": [
       "<IPython.lib.display.IFrame at 0x11a215df0>"
      ]
     },
     "execution_count": 51,
     "metadata": {},
     "output_type": "execute_result"
    }
   ],
   "source": [
    "from IPython.display import IFrame\n",
    "url = 'https://en.wikipedia.org/wiki/List_of_ISO_3166_country_codes'\n",
    "IFrame(url, width=800, height=400)"
   ]
  },
  {
   "cell_type": "code",
   "execution_count": 52,
   "id": "42d1b4d1-e767-46f5-88ea-914de74ade04",
   "metadata": {
    "slideshow": {
     "slide_type": "subslide"
    }
   },
   "outputs": [
    {
     "data": {
      "text/html": [
       "<div>\n",
       "<style scoped>\n",
       "    .dataframe tbody tr th:only-of-type {\n",
       "        vertical-align: middle;\n",
       "    }\n",
       "\n",
       "    .dataframe tbody tr th {\n",
       "        vertical-align: top;\n",
       "    }\n",
       "\n",
       "    .dataframe thead tr th {\n",
       "        text-align: left;\n",
       "    }\n",
       "</style>\n",
       "<table border=\"1\" class=\"dataframe\">\n",
       "  <thead>\n",
       "    <tr>\n",
       "      <th></th>\n",
       "      <th>ISO 3166[1]</th>\n",
       "      <th>Unnamed: 1_level_0</th>\n",
       "      <th>Unnamed: 2_level_0</th>\n",
       "      <th colspan=\"3\" halign=\"left\">ISO 3166-1[2]</th>\n",
       "      <th>ISO 3166-2[3]</th>\n",
       "      <th>Unnamed: 7_level_0</th>\n",
       "    </tr>\n",
       "    <tr>\n",
       "      <th></th>\n",
       "      <th>Country name[5]</th>\n",
       "      <th>Official state name[6]</th>\n",
       "      <th>Sovereignty[6][7][8]</th>\n",
       "      <th>Alpha-2 code[5]</th>\n",
       "      <th>Alpha-3 code[5]</th>\n",
       "      <th>Numeric code[5]</th>\n",
       "      <th>Subdivision code links[3]</th>\n",
       "      <th>Internet ccTLD[9]</th>\n",
       "    </tr>\n",
       "  </thead>\n",
       "  <tbody>\n",
       "    <tr>\n",
       "      <th>0</th>\n",
       "      <td>Afghanistan</td>\n",
       "      <td>The Islamic Republic of Afghanistan</td>\n",
       "      <td>UN member state</td>\n",
       "      <td>.mw-parser-output .monospaced{font-family:mono...</td>\n",
       "      <td>AFG</td>\n",
       "      <td>004</td>\n",
       "      <td>ISO 3166-2:AF</td>\n",
       "      <td>.af</td>\n",
       "    </tr>\n",
       "    <tr>\n",
       "      <th>1</th>\n",
       "      <td>Åland Islands</td>\n",
       "      <td>Åland</td>\n",
       "      <td>Finland</td>\n",
       "      <td>AX</td>\n",
       "      <td>ALA</td>\n",
       "      <td>248</td>\n",
       "      <td>ISO 3166-2:AX</td>\n",
       "      <td>.ax</td>\n",
       "    </tr>\n",
       "    <tr>\n",
       "      <th>2</th>\n",
       "      <td>Albania</td>\n",
       "      <td>The Republic of Albania</td>\n",
       "      <td>UN member state</td>\n",
       "      <td>AL</td>\n",
       "      <td>ALB</td>\n",
       "      <td>008</td>\n",
       "      <td>ISO 3166-2:AL</td>\n",
       "      <td>.al</td>\n",
       "    </tr>\n",
       "    <tr>\n",
       "      <th>3</th>\n",
       "      <td>Algeria</td>\n",
       "      <td>The People's Democratic Republic of Algeria</td>\n",
       "      <td>UN member state</td>\n",
       "      <td>DZ</td>\n",
       "      <td>DZA</td>\n",
       "      <td>012</td>\n",
       "      <td>ISO 3166-2:DZ</td>\n",
       "      <td>.dz</td>\n",
       "    </tr>\n",
       "    <tr>\n",
       "      <th>4</th>\n",
       "      <td>American Samoa</td>\n",
       "      <td>The Territory of American Samoa</td>\n",
       "      <td>United States</td>\n",
       "      <td>AS</td>\n",
       "      <td>ASM</td>\n",
       "      <td>016</td>\n",
       "      <td>ISO 3166-2:AS</td>\n",
       "      <td>.as</td>\n",
       "    </tr>\n",
       "    <tr>\n",
       "      <th>...</th>\n",
       "      <td>...</td>\n",
       "      <td>...</td>\n",
       "      <td>...</td>\n",
       "      <td>...</td>\n",
       "      <td>...</td>\n",
       "      <td>...</td>\n",
       "      <td>...</td>\n",
       "      <td>...</td>\n",
       "    </tr>\n",
       "    <tr>\n",
       "      <th>266</th>\n",
       "      <td>Wallis and Futuna</td>\n",
       "      <td>The Territory of the Wallis and Futuna Islands</td>\n",
       "      <td>France</td>\n",
       "      <td>WF</td>\n",
       "      <td>WLF</td>\n",
       "      <td>876</td>\n",
       "      <td>ISO 3166-2:WF</td>\n",
       "      <td>.wf</td>\n",
       "    </tr>\n",
       "    <tr>\n",
       "      <th>267</th>\n",
       "      <td>Western Sahara [ai]</td>\n",
       "      <td>The Sahrawi Arab Democratic Republic</td>\n",
       "      <td>Disputed [aj]</td>\n",
       "      <td>EH</td>\n",
       "      <td>ESH</td>\n",
       "      <td>732</td>\n",
       "      <td>ISO 3166-2:EH</td>\n",
       "      <td>[ak]</td>\n",
       "    </tr>\n",
       "    <tr>\n",
       "      <th>268</th>\n",
       "      <td>Yemen</td>\n",
       "      <td>The Republic of Yemen</td>\n",
       "      <td>UN member state</td>\n",
       "      <td>YE</td>\n",
       "      <td>YEM</td>\n",
       "      <td>887</td>\n",
       "      <td>ISO 3166-2:YE</td>\n",
       "      <td>.ye</td>\n",
       "    </tr>\n",
       "    <tr>\n",
       "      <th>269</th>\n",
       "      <td>Zambia</td>\n",
       "      <td>The Republic of Zambia</td>\n",
       "      <td>UN member state</td>\n",
       "      <td>ZM</td>\n",
       "      <td>ZMB</td>\n",
       "      <td>894</td>\n",
       "      <td>ISO 3166-2:ZM</td>\n",
       "      <td>.zm</td>\n",
       "    </tr>\n",
       "    <tr>\n",
       "      <th>270</th>\n",
       "      <td>Zimbabwe</td>\n",
       "      <td>The Republic of Zimbabwe</td>\n",
       "      <td>UN member state</td>\n",
       "      <td>ZW</td>\n",
       "      <td>ZWE</td>\n",
       "      <td>716</td>\n",
       "      <td>ISO 3166-2:ZW</td>\n",
       "      <td>.zw</td>\n",
       "    </tr>\n",
       "  </tbody>\n",
       "</table>\n",
       "<p>271 rows × 8 columns</p>\n",
       "</div>"
      ],
      "text/plain": [
       "             ISO 3166[1]                              Unnamed: 1_level_0  \\\n",
       "         Country name[5]                          Official state name[6]   \n",
       "0            Afghanistan             The Islamic Republic of Afghanistan   \n",
       "1          Åland Islands                                           Åland   \n",
       "2                Albania                         The Republic of Albania   \n",
       "3                Algeria     The People's Democratic Republic of Algeria   \n",
       "4         American Samoa                 The Territory of American Samoa   \n",
       "..                   ...                                             ...   \n",
       "266    Wallis and Futuna  The Territory of the Wallis and Futuna Islands   \n",
       "267  Western Sahara [ai]            The Sahrawi Arab Democratic Republic   \n",
       "268                Yemen                           The Republic of Yemen   \n",
       "269               Zambia                          The Republic of Zambia   \n",
       "270             Zimbabwe                        The Republic of Zimbabwe   \n",
       "\n",
       "      Unnamed: 2_level_0                                      ISO 3166-1[2]  \\\n",
       "    Sovereignty[6][7][8]                                    Alpha-2 code[5]   \n",
       "0        UN member state  .mw-parser-output .monospaced{font-family:mono...   \n",
       "1                Finland                                                 AX   \n",
       "2        UN member state                                                 AL   \n",
       "3        UN member state                                                 DZ   \n",
       "4          United States                                                 AS   \n",
       "..                   ...                                                ...   \n",
       "266               France                                                 WF   \n",
       "267        Disputed [aj]                                                 EH   \n",
       "268      UN member state                                                 YE   \n",
       "269      UN member state                                                 ZM   \n",
       "270      UN member state                                                 ZW   \n",
       "\n",
       "                                                ISO 3166-2[3]  \\\n",
       "    Alpha-3 code[5] Numeric code[5] Subdivision code links[3]   \n",
       "0               AFG             004             ISO 3166-2:AF   \n",
       "1               ALA             248             ISO 3166-2:AX   \n",
       "2               ALB             008             ISO 3166-2:AL   \n",
       "3               DZA             012             ISO 3166-2:DZ   \n",
       "4               ASM             016             ISO 3166-2:AS   \n",
       "..              ...             ...                       ...   \n",
       "266             WLF             876             ISO 3166-2:WF   \n",
       "267             ESH             732             ISO 3166-2:EH   \n",
       "268             YEM             887             ISO 3166-2:YE   \n",
       "269             ZMB             894             ISO 3166-2:ZM   \n",
       "270             ZWE             716             ISO 3166-2:ZW   \n",
       "\n",
       "    Unnamed: 7_level_0  \n",
       "     Internet ccTLD[9]  \n",
       "0                  .af  \n",
       "1                  .ax  \n",
       "2                  .al  \n",
       "3                  .dz  \n",
       "4                  .as  \n",
       "..                 ...  \n",
       "266                .wf  \n",
       "267               [ak]  \n",
       "268                .ye  \n",
       "269                .zm  \n",
       "270                .zw  \n",
       "\n",
       "[271 rows x 8 columns]"
      ]
     },
     "execution_count": 52,
     "metadata": {},
     "output_type": "execute_result"
    }
   ],
   "source": [
    "isocodes = pd.read_html(url, encoding='utf-8')[0]\n",
    "isocodes"
   ]
  },
  {
   "cell_type": "code",
   "execution_count": 53,
   "id": "32cc130a-45f8-41b5-83ac-c7a8b6e250b9",
   "metadata": {
    "slideshow": {
     "slide_type": "subslide"
    }
   },
   "outputs": [
    {
     "data": {
      "text/html": [
       "<div>\n",
       "<style scoped>\n",
       "    .dataframe tbody tr th:only-of-type {\n",
       "        vertical-align: middle;\n",
       "    }\n",
       "\n",
       "    .dataframe tbody tr th {\n",
       "        vertical-align: top;\n",
       "    }\n",
       "\n",
       "    .dataframe thead th {\n",
       "        text-align: right;\n",
       "    }\n",
       "</style>\n",
       "<table border=\"1\" class=\"dataframe\">\n",
       "  <thead>\n",
       "    <tr style=\"text-align: right;\">\n",
       "      <th></th>\n",
       "      <th>Country name</th>\n",
       "      <th>Official state name</th>\n",
       "      <th>Sovereignty</th>\n",
       "      <th>Alpha-2 code</th>\n",
       "      <th>Alpha-3 code</th>\n",
       "      <th>Numeric code</th>\n",
       "      <th>Subdivision code links</th>\n",
       "      <th>Internet ccTLD</th>\n",
       "      <th>Alpha-2 code original</th>\n",
       "    </tr>\n",
       "  </thead>\n",
       "  <tbody>\n",
       "    <tr>\n",
       "      <th>0</th>\n",
       "      <td>Afghanistan</td>\n",
       "      <td>The Islamic Republic of Afghanistan</td>\n",
       "      <td>UN member state</td>\n",
       "      <td>AF</td>\n",
       "      <td>AFG</td>\n",
       "      <td>004</td>\n",
       "      <td>ISO 3166-2:AF</td>\n",
       "      <td>.af</td>\n",
       "      <td>.mw-parser-output .monospaced{font-family:mono...</td>\n",
       "    </tr>\n",
       "    <tr>\n",
       "      <th>1</th>\n",
       "      <td>Åland Islands</td>\n",
       "      <td>Åland</td>\n",
       "      <td>Finland</td>\n",
       "      <td>AX</td>\n",
       "      <td>ALA</td>\n",
       "      <td>248</td>\n",
       "      <td>ISO 3166-2:AX</td>\n",
       "      <td>.ax</td>\n",
       "      <td>AX</td>\n",
       "    </tr>\n",
       "    <tr>\n",
       "      <th>2</th>\n",
       "      <td>Albania</td>\n",
       "      <td>The Republic of Albania</td>\n",
       "      <td>UN member state</td>\n",
       "      <td>AL</td>\n",
       "      <td>ALB</td>\n",
       "      <td>008</td>\n",
       "      <td>ISO 3166-2:AL</td>\n",
       "      <td>.al</td>\n",
       "      <td>AL</td>\n",
       "    </tr>\n",
       "    <tr>\n",
       "      <th>3</th>\n",
       "      <td>Algeria</td>\n",
       "      <td>The People's Democratic Republic of Algeria</td>\n",
       "      <td>UN member state</td>\n",
       "      <td>DZ</td>\n",
       "      <td>DZA</td>\n",
       "      <td>012</td>\n",
       "      <td>ISO 3166-2:DZ</td>\n",
       "      <td>.dz</td>\n",
       "      <td>DZ</td>\n",
       "    </tr>\n",
       "    <tr>\n",
       "      <th>4</th>\n",
       "      <td>American Samoa</td>\n",
       "      <td>The Territory of American Samoa</td>\n",
       "      <td>United States</td>\n",
       "      <td>AS</td>\n",
       "      <td>ASM</td>\n",
       "      <td>016</td>\n",
       "      <td>ISO 3166-2:AS</td>\n",
       "      <td>.as</td>\n",
       "      <td>AS</td>\n",
       "    </tr>\n",
       "  </tbody>\n",
       "</table>\n",
       "</div>"
      ],
      "text/plain": [
       "     Country name                          Official state name  \\\n",
       "0     Afghanistan          The Islamic Republic of Afghanistan   \n",
       "1   Åland Islands                                        Åland   \n",
       "2         Albania                      The Republic of Albania   \n",
       "3         Algeria  The People's Democratic Republic of Algeria   \n",
       "4  American Samoa              The Territory of American Samoa   \n",
       "\n",
       "       Sovereignty Alpha-2 code Alpha-3 code Numeric code  \\\n",
       "0  UN member state           AF          AFG          004   \n",
       "1          Finland           AX          ALA          248   \n",
       "2  UN member state           AL          ALB          008   \n",
       "3  UN member state           DZ          DZA          012   \n",
       "4    United States           AS          ASM          016   \n",
       "\n",
       "  Subdivision code links Internet ccTLD  \\\n",
       "0          ISO 3166-2:AF            .af   \n",
       "1          ISO 3166-2:AX            .ax   \n",
       "2          ISO 3166-2:AL            .al   \n",
       "3          ISO 3166-2:DZ            .dz   \n",
       "4          ISO 3166-2:AS            .as   \n",
       "\n",
       "                               Alpha-2 code original  \n",
       "0  .mw-parser-output .monospaced{font-family:mono...  \n",
       "1                                                 AX  \n",
       "2                                                 AL  \n",
       "3                                                 DZ  \n",
       "4                                                 AS  "
      ]
     },
     "execution_count": 53,
     "metadata": {},
     "output_type": "execute_result"
    }
   ],
   "source": [
    "isocodes.columns\n",
    "isocodes = isocodes.droplevel(0, axis=1)\n",
    "isocodes.head()\n",
    "mycols = isocodes.columns\n",
    "mycols = [c[:c.find('[')] for c in mycols]\n",
    "mycols\n",
    "isocodes.columns = mycols\n",
    "isocodes.head()\n",
    "isocodes['Alpha-2 code original'] = isocodes['Alpha-2 code']\n",
    "isocodes['Alpha-2 code'] = isocodes['Subdivision code links'].apply(lambda x: x[x.find(':')+1:])\n",
    "isocodes.head()"
   ]
  },
  {
   "cell_type": "code",
   "execution_count": 54,
   "id": "96a3eec0-0d7d-4f3d-b9cf-e5c6474dd423",
   "metadata": {
    "slideshow": {
     "slide_type": "subslide"
    }
   },
   "outputs": [
    {
     "data": {
      "text/html": [
       "\n",
       "        <iframe\n",
       "            width=\"800\"\n",
       "            height=\"400\"\n",
       "            src=\"https://en.wikipedia.org/wiki/List_of_countries_by_GDP_(PPP)_per_capita\"\n",
       "            frameborder=\"0\"\n",
       "            allowfullscreen\n",
       "            \n",
       "        ></iframe>\n",
       "        "
      ],
      "text/plain": [
       "<IPython.lib.display.IFrame at 0x11a2709d0>"
      ]
     },
     "execution_count": 54,
     "metadata": {},
     "output_type": "execute_result"
    }
   ],
   "source": [
    "url = 'https://en.wikipedia.org/wiki/List_of_countries_by_GDP_(PPP)_per_capita'\n",
    "IFrame(url, width=800, height=400)"
   ]
  },
  {
   "cell_type": "code",
   "execution_count": 55,
   "id": "0f1ceb02-6b3b-4d73-a01c-d94fc9fef761",
   "metadata": {
    "slideshow": {
     "slide_type": "subslide"
    }
   },
   "outputs": [
    {
     "data": {
      "text/html": [
       "<div>\n",
       "<style scoped>\n",
       "    .dataframe tbody tr th:only-of-type {\n",
       "        vertical-align: middle;\n",
       "    }\n",
       "\n",
       "    .dataframe tbody tr th {\n",
       "        vertical-align: top;\n",
       "    }\n",
       "\n",
       "    .dataframe thead tr th {\n",
       "        text-align: left;\n",
       "    }\n",
       "</style>\n",
       "<table border=\"1\" class=\"dataframe\">\n",
       "  <thead>\n",
       "    <tr>\n",
       "      <th></th>\n",
       "      <th>Country/Territory</th>\n",
       "      <th>UN Region</th>\n",
       "      <th colspan=\"2\" halign=\"left\">IMF[5][6][7]</th>\n",
       "      <th colspan=\"2\" halign=\"left\">World Bank[8]</th>\n",
       "      <th colspan=\"2\" halign=\"left\">CIA[9][10][11]</th>\n",
       "    </tr>\n",
       "    <tr>\n",
       "      <th></th>\n",
       "      <th>Country/Territory</th>\n",
       "      <th>UN Region</th>\n",
       "      <th>Estimate</th>\n",
       "      <th>Year</th>\n",
       "      <th>Estimate</th>\n",
       "      <th>Year</th>\n",
       "      <th>Estimate</th>\n",
       "      <th>Year</th>\n",
       "    </tr>\n",
       "  </thead>\n",
       "  <tbody>\n",
       "    <tr>\n",
       "      <th>0</th>\n",
       "      <td>Luxembourg *</td>\n",
       "      <td>Europe</td>\n",
       "      <td>141587</td>\n",
       "      <td>2022</td>\n",
       "      <td>134754</td>\n",
       "      <td>2021</td>\n",
       "      <td>110300</td>\n",
       "      <td>2020</td>\n",
       "    </tr>\n",
       "    <tr>\n",
       "      <th>1</th>\n",
       "      <td>Liechtenstein *</td>\n",
       "      <td>Europe</td>\n",
       "      <td>—</td>\n",
       "      <td>—</td>\n",
       "      <td>—</td>\n",
       "      <td>—</td>\n",
       "      <td>139100</td>\n",
       "      <td>2009</td>\n",
       "    </tr>\n",
       "    <tr>\n",
       "      <th>2</th>\n",
       "      <td>Singapore *</td>\n",
       "      <td>Asia</td>\n",
       "      <td>131426</td>\n",
       "      <td>2022</td>\n",
       "      <td>116487</td>\n",
       "      <td>2021</td>\n",
       "      <td>93400</td>\n",
       "      <td>2020</td>\n",
       "    </tr>\n",
       "    <tr>\n",
       "      <th>3</th>\n",
       "      <td>Ireland *</td>\n",
       "      <td>Europe</td>\n",
       "      <td>131034</td>\n",
       "      <td>2022</td>\n",
       "      <td>106456</td>\n",
       "      <td>2021</td>\n",
       "      <td>89700</td>\n",
       "      <td>2020</td>\n",
       "    </tr>\n",
       "    <tr>\n",
       "      <th>4</th>\n",
       "      <td>Monaco *</td>\n",
       "      <td>Europe</td>\n",
       "      <td>—</td>\n",
       "      <td>—</td>\n",
       "      <td>—</td>\n",
       "      <td>—</td>\n",
       "      <td>115700</td>\n",
       "      <td>2015</td>\n",
       "    </tr>\n",
       "    <tr>\n",
       "      <th>...</th>\n",
       "      <td>...</td>\n",
       "      <td>...</td>\n",
       "      <td>...</td>\n",
       "      <td>...</td>\n",
       "      <td>...</td>\n",
       "      <td>...</td>\n",
       "      <td>...</td>\n",
       "      <td>...</td>\n",
       "    </tr>\n",
       "    <tr>\n",
       "      <th>225</th>\n",
       "      <td>DR Congo *</td>\n",
       "      <td>Africa</td>\n",
       "      <td>1328</td>\n",
       "      <td>2022</td>\n",
       "      <td>1219</td>\n",
       "      <td>2021</td>\n",
       "      <td>1100</td>\n",
       "      <td>2020</td>\n",
       "    </tr>\n",
       "    <tr>\n",
       "      <th>226</th>\n",
       "      <td>Somalia *</td>\n",
       "      <td>Africa</td>\n",
       "      <td>1322</td>\n",
       "      <td>2022</td>\n",
       "      <td>1303</td>\n",
       "      <td>2021</td>\n",
       "      <td>800</td>\n",
       "      <td>2020</td>\n",
       "    </tr>\n",
       "    <tr>\n",
       "      <th>227</th>\n",
       "      <td>Central African Republic *</td>\n",
       "      <td>Africa</td>\n",
       "      <td>1088</td>\n",
       "      <td>2022</td>\n",
       "      <td>1021</td>\n",
       "      <td>2021</td>\n",
       "      <td>900</td>\n",
       "      <td>2020</td>\n",
       "    </tr>\n",
       "    <tr>\n",
       "      <th>228</th>\n",
       "      <td>South Sudan *</td>\n",
       "      <td>Africa</td>\n",
       "      <td>934</td>\n",
       "      <td>2022</td>\n",
       "      <td>1235</td>\n",
       "      <td>2015</td>\n",
       "      <td>1600</td>\n",
       "      <td>2017</td>\n",
       "    </tr>\n",
       "    <tr>\n",
       "      <th>229</th>\n",
       "      <td>Burundi *</td>\n",
       "      <td>Africa</td>\n",
       "      <td>865</td>\n",
       "      <td>2022</td>\n",
       "      <td>793</td>\n",
       "      <td>2021</td>\n",
       "      <td>700</td>\n",
       "      <td>2020</td>\n",
       "    </tr>\n",
       "  </tbody>\n",
       "</table>\n",
       "<p>230 rows × 8 columns</p>\n",
       "</div>"
      ],
      "text/plain": [
       "              Country/Territory UN Region IMF[5][6][7]       World Bank[8]  \\\n",
       "              Country/Territory UN Region     Estimate  Year      Estimate   \n",
       "0                  Luxembourg *    Europe       141587  2022        134754   \n",
       "1               Liechtenstein *    Europe            —     —             —   \n",
       "2                   Singapore *      Asia       131426  2022        116487   \n",
       "3                     Ireland *    Europe       131034  2022        106456   \n",
       "4                      Monaco *    Europe            —     —             —   \n",
       "..                          ...       ...          ...   ...           ...   \n",
       "225                  DR Congo *    Africa         1328  2022          1219   \n",
       "226                   Somalia *    Africa         1322  2022          1303   \n",
       "227  Central African Republic *    Africa         1088  2022          1021   \n",
       "228               South Sudan *    Africa          934  2022          1235   \n",
       "229                   Burundi *    Africa          865  2022           793   \n",
       "\n",
       "          CIA[9][10][11]        \n",
       "     Year       Estimate  Year  \n",
       "0    2021         110300  2020  \n",
       "1       —         139100  2009  \n",
       "2    2021          93400  2020  \n",
       "3    2021          89700  2020  \n",
       "4       —         115700  2015  \n",
       "..    ...            ...   ...  \n",
       "225  2021           1100  2020  \n",
       "226  2021            800  2020  \n",
       "227  2021            900  2020  \n",
       "228  2015           1600  2017  \n",
       "229  2021            700  2020  \n",
       "\n",
       "[230 rows x 8 columns]"
      ]
     },
     "execution_count": 55,
     "metadata": {},
     "output_type": "execute_result"
    }
   ],
   "source": [
    "gdppc_wiki = pd.read_html(url, encoding='utf-8')[1]\n",
    "gdppc_wiki"
   ]
  },
  {
   "cell_type": "code",
   "execution_count": 56,
   "id": "caa93e6f-8e2b-4101-a18b-831479a9dda9",
   "metadata": {
    "slideshow": {
     "slide_type": "subslide"
    }
   },
   "outputs": [
    {
     "data": {
      "text/html": [
       "<div>\n",
       "<style scoped>\n",
       "    .dataframe tbody tr th:only-of-type {\n",
       "        vertical-align: middle;\n",
       "    }\n",
       "\n",
       "    .dataframe tbody tr th {\n",
       "        vertical-align: top;\n",
       "    }\n",
       "\n",
       "    .dataframe thead th {\n",
       "        text-align: right;\n",
       "    }\n",
       "</style>\n",
       "<table border=\"1\" class=\"dataframe\">\n",
       "  <thead>\n",
       "    <tr style=\"text-align: right;\">\n",
       "      <th></th>\n",
       "      <th>Country/Territory</th>\n",
       "      <th>UN Region</th>\n",
       "      <th>gdppc_IMF</th>\n",
       "      <th>year_IMF</th>\n",
       "      <th>gdppc_WB</th>\n",
       "      <th>year_WB</th>\n",
       "      <th>gdppc_CIA</th>\n",
       "      <th>year_CIA</th>\n",
       "    </tr>\n",
       "  </thead>\n",
       "  <tbody>\n",
       "    <tr>\n",
       "      <th>0</th>\n",
       "      <td>Luxembourg *</td>\n",
       "      <td>Europe</td>\n",
       "      <td>141587</td>\n",
       "      <td>2022</td>\n",
       "      <td>134754</td>\n",
       "      <td>2021</td>\n",
       "      <td>110300</td>\n",
       "      <td>2020</td>\n",
       "    </tr>\n",
       "    <tr>\n",
       "      <th>1</th>\n",
       "      <td>Liechtenstein *</td>\n",
       "      <td>Europe</td>\n",
       "      <td>—</td>\n",
       "      <td>—</td>\n",
       "      <td>—</td>\n",
       "      <td>—</td>\n",
       "      <td>139100</td>\n",
       "      <td>2009</td>\n",
       "    </tr>\n",
       "    <tr>\n",
       "      <th>2</th>\n",
       "      <td>Singapore *</td>\n",
       "      <td>Asia</td>\n",
       "      <td>131426</td>\n",
       "      <td>2022</td>\n",
       "      <td>116487</td>\n",
       "      <td>2021</td>\n",
       "      <td>93400</td>\n",
       "      <td>2020</td>\n",
       "    </tr>\n",
       "    <tr>\n",
       "      <th>3</th>\n",
       "      <td>Ireland *</td>\n",
       "      <td>Europe</td>\n",
       "      <td>131034</td>\n",
       "      <td>2022</td>\n",
       "      <td>106456</td>\n",
       "      <td>2021</td>\n",
       "      <td>89700</td>\n",
       "      <td>2020</td>\n",
       "    </tr>\n",
       "    <tr>\n",
       "      <th>4</th>\n",
       "      <td>Monaco *</td>\n",
       "      <td>Europe</td>\n",
       "      <td>—</td>\n",
       "      <td>—</td>\n",
       "      <td>—</td>\n",
       "      <td>—</td>\n",
       "      <td>115700</td>\n",
       "      <td>2015</td>\n",
       "    </tr>\n",
       "  </tbody>\n",
       "</table>\n",
       "</div>"
      ],
      "text/plain": [
       "  Country/Territory UN Region gdppc_IMF year_IMF gdppc_WB year_WB  gdppc_CIA  \\\n",
       "0      Luxembourg *    Europe    141587     2022   134754    2021     110300   \n",
       "1   Liechtenstein *    Europe         —        —        —       —     139100   \n",
       "2       Singapore *      Asia    131426     2022   116487    2021      93400   \n",
       "3         Ireland *    Europe    131034     2022   106456    2021      89700   \n",
       "4          Monaco *    Europe         —        —        —       —     115700   \n",
       "\n",
       "  year_CIA  \n",
       "0     2020  \n",
       "1     2009  \n",
       "2     2020  \n",
       "3     2020  \n",
       "4     2015  "
      ]
     },
     "execution_count": 56,
     "metadata": {},
     "output_type": "execute_result"
    }
   ],
   "source": [
    "gdppc_wiki.columns = ['Country/Territory', 'UN Region', 'gdppc_IMF', 'year_IMF',\n",
    "                      'gdppc_WB', 'year_WB', 'gdppc_CIA', 'year_CIA']\n",
    "gdppc_wiki.head()"
   ]
  },
  {
   "cell_type": "code",
   "execution_count": 57,
   "id": "57d74bcb-2bb7-4c56-881f-46313fecfde3",
   "metadata": {
    "slideshow": {
     "slide_type": "subslide"
    }
   },
   "outputs": [
    {
     "data": {
      "text/html": [
       "<div>\n",
       "<style scoped>\n",
       "    .dataframe tbody tr th:only-of-type {\n",
       "        vertical-align: middle;\n",
       "    }\n",
       "\n",
       "    .dataframe tbody tr th {\n",
       "        vertical-align: top;\n",
       "    }\n",
       "\n",
       "    .dataframe thead th {\n",
       "        text-align: right;\n",
       "    }\n",
       "</style>\n",
       "<table border=\"1\" class=\"dataframe\">\n",
       "  <thead>\n",
       "    <tr style=\"text-align: right;\">\n",
       "      <th></th>\n",
       "      <th>Country/Territory</th>\n",
       "      <th>UN Region</th>\n",
       "      <th>gdppc_IMF</th>\n",
       "      <th>year_IMF</th>\n",
       "      <th>gdppc_WB</th>\n",
       "      <th>year_WB</th>\n",
       "      <th>gdppc_CIA</th>\n",
       "      <th>year_CIA</th>\n",
       "      <th>country_name</th>\n",
       "    </tr>\n",
       "  </thead>\n",
       "  <tbody>\n",
       "    <tr>\n",
       "      <th>0</th>\n",
       "      <td>Luxembourg *</td>\n",
       "      <td>Europe</td>\n",
       "      <td>141587</td>\n",
       "      <td>2022</td>\n",
       "      <td>134754</td>\n",
       "      <td>2021</td>\n",
       "      <td>110300</td>\n",
       "      <td>2020</td>\n",
       "      <td>Luxembourg</td>\n",
       "    </tr>\n",
       "    <tr>\n",
       "      <th>1</th>\n",
       "      <td>Liechtenstein *</td>\n",
       "      <td>Europe</td>\n",
       "      <td>—</td>\n",
       "      <td>—</td>\n",
       "      <td>—</td>\n",
       "      <td>—</td>\n",
       "      <td>139100</td>\n",
       "      <td>2009</td>\n",
       "      <td>Liechtenstein</td>\n",
       "    </tr>\n",
       "    <tr>\n",
       "      <th>2</th>\n",
       "      <td>Singapore *</td>\n",
       "      <td>Asia</td>\n",
       "      <td>131426</td>\n",
       "      <td>2022</td>\n",
       "      <td>116487</td>\n",
       "      <td>2021</td>\n",
       "      <td>93400</td>\n",
       "      <td>2020</td>\n",
       "      <td>Singapore</td>\n",
       "    </tr>\n",
       "    <tr>\n",
       "      <th>3</th>\n",
       "      <td>Ireland *</td>\n",
       "      <td>Europe</td>\n",
       "      <td>131034</td>\n",
       "      <td>2022</td>\n",
       "      <td>106456</td>\n",
       "      <td>2021</td>\n",
       "      <td>89700</td>\n",
       "      <td>2020</td>\n",
       "      <td>Ireland</td>\n",
       "    </tr>\n",
       "    <tr>\n",
       "      <th>4</th>\n",
       "      <td>Monaco *</td>\n",
       "      <td>Europe</td>\n",
       "      <td>—</td>\n",
       "      <td>—</td>\n",
       "      <td>—</td>\n",
       "      <td>—</td>\n",
       "      <td>115700</td>\n",
       "      <td>2015</td>\n",
       "      <td>Monaco</td>\n",
       "    </tr>\n",
       "  </tbody>\n",
       "</table>\n",
       "</div>"
      ],
      "text/plain": [
       "  Country/Territory UN Region gdppc_IMF year_IMF gdppc_WB year_WB  gdppc_CIA  \\\n",
       "0      Luxembourg *    Europe    141587     2022   134754    2021     110300   \n",
       "1   Liechtenstein *    Europe         —        —        —       —     139100   \n",
       "2       Singapore *      Asia    131426     2022   116487    2021      93400   \n",
       "3         Ireland *    Europe    131034     2022   106456    2021      89700   \n",
       "4          Monaco *    Europe         —        —        —       —     115700   \n",
       "\n",
       "  year_CIA   country_name  \n",
       "0     2020     Luxembourg  \n",
       "1     2009  Liechtenstein  \n",
       "2     2020      Singapore  \n",
       "3     2020        Ireland  \n",
       "4     2015         Monaco  "
      ]
     },
     "execution_count": 57,
     "metadata": {},
     "output_type": "execute_result"
    }
   ],
   "source": [
    "gdppc_wiki['country_name'] = gdppc_wiki['Country/Territory'].str.replace('*', '', regex=True).str.strip()\n",
    "gdppc_wiki.head()"
   ]
  },
  {
   "cell_type": "code",
   "execution_count": 58,
   "id": "5717c3fc-5961-49f9-95ee-d06bdc642c33",
   "metadata": {
    "slideshow": {
     "slide_type": "subslide"
    }
   },
   "outputs": [
    {
     "data": {
      "text/plain": [
       "Country/Territory    object\n",
       "UN Region            object\n",
       "gdppc_IMF            object\n",
       "year_IMF             object\n",
       "gdppc_WB             object\n",
       "year_WB              object\n",
       "gdppc_CIA             int64\n",
       "year_CIA             object\n",
       "country_name         object\n",
       "dtype: object"
      ]
     },
     "execution_count": 58,
     "metadata": {},
     "output_type": "execute_result"
    }
   ],
   "source": [
    "gdppc_wiki.dtypes"
   ]
  },
  {
   "cell_type": "code",
   "execution_count": 59,
   "id": "354b4966-c0a5-45ed-975c-b30ae8454b9a",
   "metadata": {
    "slideshow": {
     "slide_type": "subslide"
    }
   },
   "outputs": [],
   "source": [
    "for c in gdppc_wiki.columns[2:-1]:\n",
    "    gdppc_wiki[c] = pd.to_numeric(gdppc_wiki[c].replace('—', 'nan'), errors='coerce')\n",
    "    if c.startswith('year'):\n",
    "        gdppc_wiki[c] = gdppc_wiki[c].astype('Int64')"
   ]
  },
  {
   "cell_type": "code",
   "execution_count": 60,
   "id": "5c3d00e8-4ede-4509-b1a4-f9565072b770",
   "metadata": {
    "slideshow": {
     "slide_type": "subslide"
    }
   },
   "outputs": [
    {
     "data": {
      "text/plain": [
       "Country/Territory     object\n",
       "UN Region             object\n",
       "gdppc_IMF            float64\n",
       "year_IMF               Int64\n",
       "gdppc_WB             float64\n",
       "year_WB                Int64\n",
       "gdppc_CIA              int64\n",
       "year_CIA               Int64\n",
       "country_name          object\n",
       "dtype: object"
      ]
     },
     "execution_count": 60,
     "metadata": {},
     "output_type": "execute_result"
    }
   ],
   "source": [
    "gdppc_wiki.dtypes"
   ]
  },
  {
   "cell_type": "markdown",
   "id": "c0159961-fc4d-47c6-87b4-a4fa0ee247ba",
   "metadata": {
    "slideshow": {
     "slide_type": "slide"
    },
    "user_expressions": []
   },
   "source": [
    "Exercise 2: Merge the isocodes and pop dataframes."
   ]
  },
  {
   "cell_type": "code",
   "execution_count": 61,
   "id": "26f446a6-1512-4941-8407-d1425980b11b",
   "metadata": {
    "slideshow": {
     "slide_type": "subslide"
    }
   },
   "outputs": [
    {
     "data": {
      "text/html": [
       "<div>\n",
       "<style scoped>\n",
       "    .dataframe tbody tr th:only-of-type {\n",
       "        vertical-align: middle;\n",
       "    }\n",
       "\n",
       "    .dataframe tbody tr th {\n",
       "        vertical-align: top;\n",
       "    }\n",
       "\n",
       "    .dataframe thead th {\n",
       "        text-align: right;\n",
       "    }\n",
       "</style>\n",
       "<table border=\"1\" class=\"dataframe\">\n",
       "  <thead>\n",
       "    <tr style=\"text-align: right;\">\n",
       "      <th></th>\n",
       "      <th>Country name</th>\n",
       "      <th>Official state name</th>\n",
       "      <th>Sovereignty</th>\n",
       "      <th>Alpha-2 code</th>\n",
       "      <th>Alpha-3 code</th>\n",
       "      <th>Numeric code</th>\n",
       "      <th>Subdivision code links</th>\n",
       "      <th>Internet ccTLD</th>\n",
       "      <th>Alpha-2 code original</th>\n",
       "    </tr>\n",
       "  </thead>\n",
       "  <tbody>\n",
       "    <tr>\n",
       "      <th>0</th>\n",
       "      <td>Afghanistan</td>\n",
       "      <td>The Islamic Republic of Afghanistan</td>\n",
       "      <td>UN member state</td>\n",
       "      <td>AF</td>\n",
       "      <td>AFG</td>\n",
       "      <td>004</td>\n",
       "      <td>ISO 3166-2:AF</td>\n",
       "      <td>.af</td>\n",
       "      <td>.mw-parser-output .monospaced{font-family:mono...</td>\n",
       "    </tr>\n",
       "    <tr>\n",
       "      <th>1</th>\n",
       "      <td>Åland Islands</td>\n",
       "      <td>Åland</td>\n",
       "      <td>Finland</td>\n",
       "      <td>AX</td>\n",
       "      <td>ALA</td>\n",
       "      <td>248</td>\n",
       "      <td>ISO 3166-2:AX</td>\n",
       "      <td>.ax</td>\n",
       "      <td>AX</td>\n",
       "    </tr>\n",
       "  </tbody>\n",
       "</table>\n",
       "</div>"
      ],
      "text/plain": [
       "    Country name                  Official state name      Sovereignty  \\\n",
       "0    Afghanistan  The Islamic Republic of Afghanistan  UN member state   \n",
       "1  Åland Islands                                Åland          Finland   \n",
       "\n",
       "  Alpha-2 code Alpha-3 code Numeric code Subdivision code links  \\\n",
       "0           AF          AFG          004          ISO 3166-2:AF   \n",
       "1           AX          ALA          248          ISO 3166-2:AX   \n",
       "\n",
       "  Internet ccTLD                              Alpha-2 code original  \n",
       "0            .af  .mw-parser-output .monospaced{font-family:mono...  \n",
       "1            .ax                                                 AX  "
      ]
     },
     "execution_count": 61,
     "metadata": {},
     "output_type": "execute_result"
    }
   ],
   "source": [
    "isocodes.head(2)"
   ]
  },
  {
   "cell_type": "code",
   "execution_count": 62,
   "id": "9c02bb79-e762-4a0d-809d-ec93461a8c00",
   "metadata": {
    "slideshow": {
     "slide_type": "subslide"
    }
   },
   "outputs": [
    {
     "data": {
      "text/html": [
       "<div>\n",
       "<style scoped>\n",
       "    .dataframe tbody tr th:only-of-type {\n",
       "        vertical-align: middle;\n",
       "    }\n",
       "\n",
       "    .dataframe tbody tr th {\n",
       "        vertical-align: top;\n",
       "    }\n",
       "\n",
       "    .dataframe thead th {\n",
       "        text-align: right;\n",
       "    }\n",
       "</style>\n",
       "<table border=\"1\" class=\"dataframe\">\n",
       "  <thead>\n",
       "    <tr style=\"text-align: right;\">\n",
       "      <th></th>\n",
       "      <th>Country/Area</th>\n",
       "      <th>UN Continental Region</th>\n",
       "      <th>UN Statistical Subregion</th>\n",
       "      <th>Population 2018</th>\n",
       "      <th>Population 2019</th>\n",
       "      <th>% Change</th>\n",
       "    </tr>\n",
       "  </thead>\n",
       "  <tbody>\n",
       "    <tr>\n",
       "      <th>0</th>\n",
       "      <td>China[a]</td>\n",
       "      <td>Asia</td>\n",
       "      <td>Eastern Asia</td>\n",
       "      <td>1427647786</td>\n",
       "      <td>1433783686</td>\n",
       "      <td>+0.43%</td>\n",
       "    </tr>\n",
       "  </tbody>\n",
       "</table>\n",
       "</div>"
      ],
      "text/plain": [
       "  Country/Area UN Continental Region UN Statistical Subregion  \\\n",
       "0     China[a]                  Asia             Eastern Asia   \n",
       "\n",
       "   Population 2018  Population 2019 % Change  \n",
       "0       1427647786       1433783686   +0.43%  "
      ]
     },
     "execution_count": 62,
     "metadata": {},
     "output_type": "execute_result"
    }
   ],
   "source": [
    "pop.head(1)"
   ]
  },
  {
   "cell_type": "code",
   "execution_count": 63,
   "id": "39e8ad8f-2a98-426a-bc46-921fde7292eb",
   "metadata": {
    "slideshow": {
     "slide_type": "subslide"
    }
   },
   "outputs": [
    {
     "data": {
      "text/html": [
       "<div>\n",
       "<style scoped>\n",
       "    .dataframe tbody tr th:only-of-type {\n",
       "        vertical-align: middle;\n",
       "    }\n",
       "\n",
       "    .dataframe tbody tr th {\n",
       "        vertical-align: top;\n",
       "    }\n",
       "\n",
       "    .dataframe thead th {\n",
       "        text-align: right;\n",
       "    }\n",
       "</style>\n",
       "<table border=\"1\" class=\"dataframe\">\n",
       "  <thead>\n",
       "    <tr style=\"text-align: right;\">\n",
       "      <th></th>\n",
       "      <th>Country name</th>\n",
       "      <th>Official state name</th>\n",
       "      <th>Sovereignty</th>\n",
       "      <th>Alpha-2 code</th>\n",
       "      <th>Alpha-3 code</th>\n",
       "      <th>Numeric code</th>\n",
       "      <th>Subdivision code links</th>\n",
       "      <th>Internet ccTLD</th>\n",
       "      <th>Alpha-2 code original</th>\n",
       "      <th>Country/Area</th>\n",
       "      <th>UN Continental Region</th>\n",
       "      <th>UN Statistical Subregion</th>\n",
       "      <th>Population 2018</th>\n",
       "      <th>Population 2019</th>\n",
       "      <th>% Change</th>\n",
       "    </tr>\n",
       "  </thead>\n",
       "  <tbody>\n",
       "    <tr>\n",
       "      <th>0</th>\n",
       "      <td>Afghanistan</td>\n",
       "      <td>The Islamic Republic of Afghanistan</td>\n",
       "      <td>UN member state</td>\n",
       "      <td>AF</td>\n",
       "      <td>AFG</td>\n",
       "      <td>004</td>\n",
       "      <td>ISO 3166-2:AF</td>\n",
       "      <td>.af</td>\n",
       "      <td>.mw-parser-output .monospaced{font-family:mono...</td>\n",
       "      <td>Afghanistan</td>\n",
       "      <td>Asia</td>\n",
       "      <td>Southern Asia</td>\n",
       "      <td>37171921</td>\n",
       "      <td>38041754</td>\n",
       "      <td>+2.34%</td>\n",
       "    </tr>\n",
       "    <tr>\n",
       "      <th>1</th>\n",
       "      <td>Albania</td>\n",
       "      <td>The Republic of Albania</td>\n",
       "      <td>UN member state</td>\n",
       "      <td>AL</td>\n",
       "      <td>ALB</td>\n",
       "      <td>008</td>\n",
       "      <td>ISO 3166-2:AL</td>\n",
       "      <td>.al</td>\n",
       "      <td>AL</td>\n",
       "      <td>Albania</td>\n",
       "      <td>Europe</td>\n",
       "      <td>Southern Europe</td>\n",
       "      <td>2882740</td>\n",
       "      <td>2880917</td>\n",
       "      <td>−0.06%</td>\n",
       "    </tr>\n",
       "    <tr>\n",
       "      <th>2</th>\n",
       "      <td>Algeria</td>\n",
       "      <td>The People's Democratic Republic of Algeria</td>\n",
       "      <td>UN member state</td>\n",
       "      <td>DZ</td>\n",
       "      <td>DZA</td>\n",
       "      <td>012</td>\n",
       "      <td>ISO 3166-2:DZ</td>\n",
       "      <td>.dz</td>\n",
       "      <td>DZ</td>\n",
       "      <td>Algeria</td>\n",
       "      <td>Africa</td>\n",
       "      <td>Northern Africa</td>\n",
       "      <td>42228408</td>\n",
       "      <td>43053054</td>\n",
       "      <td>+1.95%</td>\n",
       "    </tr>\n",
       "    <tr>\n",
       "      <th>3</th>\n",
       "      <td>Andorra</td>\n",
       "      <td>The Principality of Andorra</td>\n",
       "      <td>UN member state</td>\n",
       "      <td>AD</td>\n",
       "      <td>AND</td>\n",
       "      <td>020</td>\n",
       "      <td>ISO 3166-2:AD</td>\n",
       "      <td>.ad</td>\n",
       "      <td>AD</td>\n",
       "      <td>Andorra</td>\n",
       "      <td>Europe</td>\n",
       "      <td>Southern Europe</td>\n",
       "      <td>77006</td>\n",
       "      <td>77142</td>\n",
       "      <td>+0.18%</td>\n",
       "    </tr>\n",
       "    <tr>\n",
       "      <th>4</th>\n",
       "      <td>Angola</td>\n",
       "      <td>The Republic of Angola</td>\n",
       "      <td>UN member state</td>\n",
       "      <td>AO</td>\n",
       "      <td>AGO</td>\n",
       "      <td>024</td>\n",
       "      <td>ISO 3166-2:AO</td>\n",
       "      <td>.ao</td>\n",
       "      <td>AO</td>\n",
       "      <td>Angola</td>\n",
       "      <td>Africa</td>\n",
       "      <td>Middle Africa</td>\n",
       "      <td>30809787</td>\n",
       "      <td>31825295</td>\n",
       "      <td>+3.30%</td>\n",
       "    </tr>\n",
       "    <tr>\n",
       "      <th>...</th>\n",
       "      <td>...</td>\n",
       "      <td>...</td>\n",
       "      <td>...</td>\n",
       "      <td>...</td>\n",
       "      <td>...</td>\n",
       "      <td>...</td>\n",
       "      <td>...</td>\n",
       "      <td>...</td>\n",
       "      <td>...</td>\n",
       "      <td>...</td>\n",
       "      <td>...</td>\n",
       "      <td>...</td>\n",
       "      <td>...</td>\n",
       "      <td>...</td>\n",
       "      <td>...</td>\n",
       "    </tr>\n",
       "    <tr>\n",
       "      <th>139</th>\n",
       "      <td>Uzbekistan</td>\n",
       "      <td>The Republic of Uzbekistan</td>\n",
       "      <td>UN member state</td>\n",
       "      <td>UZ</td>\n",
       "      <td>UZB</td>\n",
       "      <td>860</td>\n",
       "      <td>ISO 3166-2:UZ</td>\n",
       "      <td>.uz</td>\n",
       "      <td>UZ</td>\n",
       "      <td>Uzbekistan</td>\n",
       "      <td>Asia</td>\n",
       "      <td>Central Asia</td>\n",
       "      <td>32476244</td>\n",
       "      <td>32981716</td>\n",
       "      <td>+1.56%</td>\n",
       "    </tr>\n",
       "    <tr>\n",
       "      <th>140</th>\n",
       "      <td>Vanuatu</td>\n",
       "      <td>The Republic of Vanuatu</td>\n",
       "      <td>UN member state</td>\n",
       "      <td>VU</td>\n",
       "      <td>VUT</td>\n",
       "      <td>548</td>\n",
       "      <td>ISO 3166-2:VU</td>\n",
       "      <td>.vu</td>\n",
       "      <td>VU</td>\n",
       "      <td>Vanuatu</td>\n",
       "      <td>Oceania</td>\n",
       "      <td>Melanesia</td>\n",
       "      <td>292680</td>\n",
       "      <td>299882</td>\n",
       "      <td>+2.46%</td>\n",
       "    </tr>\n",
       "    <tr>\n",
       "      <th>141</th>\n",
       "      <td>Yemen</td>\n",
       "      <td>The Republic of Yemen</td>\n",
       "      <td>UN member state</td>\n",
       "      <td>YE</td>\n",
       "      <td>YEM</td>\n",
       "      <td>887</td>\n",
       "      <td>ISO 3166-2:YE</td>\n",
       "      <td>.ye</td>\n",
       "      <td>YE</td>\n",
       "      <td>Yemen</td>\n",
       "      <td>Asia</td>\n",
       "      <td>Western Asia</td>\n",
       "      <td>28498683</td>\n",
       "      <td>29161922</td>\n",
       "      <td>+2.33%</td>\n",
       "    </tr>\n",
       "    <tr>\n",
       "      <th>142</th>\n",
       "      <td>Zambia</td>\n",
       "      <td>The Republic of Zambia</td>\n",
       "      <td>UN member state</td>\n",
       "      <td>ZM</td>\n",
       "      <td>ZMB</td>\n",
       "      <td>894</td>\n",
       "      <td>ISO 3166-2:ZM</td>\n",
       "      <td>.zm</td>\n",
       "      <td>ZM</td>\n",
       "      <td>Zambia</td>\n",
       "      <td>Africa</td>\n",
       "      <td>Eastern Africa</td>\n",
       "      <td>17351708</td>\n",
       "      <td>17861030</td>\n",
       "      <td>+2.94%</td>\n",
       "    </tr>\n",
       "    <tr>\n",
       "      <th>143</th>\n",
       "      <td>Zimbabwe</td>\n",
       "      <td>The Republic of Zimbabwe</td>\n",
       "      <td>UN member state</td>\n",
       "      <td>ZW</td>\n",
       "      <td>ZWE</td>\n",
       "      <td>716</td>\n",
       "      <td>ISO 3166-2:ZW</td>\n",
       "      <td>.zw</td>\n",
       "      <td>ZW</td>\n",
       "      <td>Zimbabwe</td>\n",
       "      <td>Africa</td>\n",
       "      <td>Eastern Africa</td>\n",
       "      <td>14438802</td>\n",
       "      <td>14645468</td>\n",
       "      <td>+1.43%</td>\n",
       "    </tr>\n",
       "  </tbody>\n",
       "</table>\n",
       "<p>144 rows × 15 columns</p>\n",
       "</div>"
      ],
      "text/plain": [
       "    Country name                          Official state name  \\\n",
       "0    Afghanistan          The Islamic Republic of Afghanistan   \n",
       "1        Albania                      The Republic of Albania   \n",
       "2        Algeria  The People's Democratic Republic of Algeria   \n",
       "3        Andorra                  The Principality of Andorra   \n",
       "4         Angola                       The Republic of Angola   \n",
       "..           ...                                          ...   \n",
       "139   Uzbekistan                   The Republic of Uzbekistan   \n",
       "140      Vanuatu                      The Republic of Vanuatu   \n",
       "141        Yemen                        The Republic of Yemen   \n",
       "142       Zambia                       The Republic of Zambia   \n",
       "143     Zimbabwe                     The Republic of Zimbabwe   \n",
       "\n",
       "         Sovereignty Alpha-2 code Alpha-3 code Numeric code  \\\n",
       "0    UN member state           AF          AFG          004   \n",
       "1    UN member state           AL          ALB          008   \n",
       "2    UN member state           DZ          DZA          012   \n",
       "3    UN member state           AD          AND          020   \n",
       "4    UN member state           AO          AGO          024   \n",
       "..               ...          ...          ...          ...   \n",
       "139  UN member state           UZ          UZB          860   \n",
       "140  UN member state           VU          VUT          548   \n",
       "141  UN member state           YE          YEM          887   \n",
       "142  UN member state           ZM          ZMB          894   \n",
       "143  UN member state           ZW          ZWE          716   \n",
       "\n",
       "    Subdivision code links Internet ccTLD  \\\n",
       "0            ISO 3166-2:AF            .af   \n",
       "1            ISO 3166-2:AL            .al   \n",
       "2            ISO 3166-2:DZ            .dz   \n",
       "3            ISO 3166-2:AD            .ad   \n",
       "4            ISO 3166-2:AO            .ao   \n",
       "..                     ...            ...   \n",
       "139          ISO 3166-2:UZ            .uz   \n",
       "140          ISO 3166-2:VU            .vu   \n",
       "141          ISO 3166-2:YE            .ye   \n",
       "142          ISO 3166-2:ZM            .zm   \n",
       "143          ISO 3166-2:ZW            .zw   \n",
       "\n",
       "                                 Alpha-2 code original Country/Area  \\\n",
       "0    .mw-parser-output .monospaced{font-family:mono...  Afghanistan   \n",
       "1                                                   AL      Albania   \n",
       "2                                                   DZ      Algeria   \n",
       "3                                                   AD      Andorra   \n",
       "4                                                   AO       Angola   \n",
       "..                                                 ...          ...   \n",
       "139                                                 UZ   Uzbekistan   \n",
       "140                                                 VU      Vanuatu   \n",
       "141                                                 YE        Yemen   \n",
       "142                                                 ZM       Zambia   \n",
       "143                                                 ZW     Zimbabwe   \n",
       "\n",
       "    UN Continental Region UN Statistical Subregion  Population 2018  \\\n",
       "0                    Asia            Southern Asia         37171921   \n",
       "1                  Europe          Southern Europe          2882740   \n",
       "2                  Africa          Northern Africa         42228408   \n",
       "3                  Europe          Southern Europe            77006   \n",
       "4                  Africa            Middle Africa         30809787   \n",
       "..                    ...                      ...              ...   \n",
       "139                  Asia             Central Asia         32476244   \n",
       "140               Oceania                Melanesia           292680   \n",
       "141                  Asia             Western Asia         28498683   \n",
       "142                Africa           Eastern Africa         17351708   \n",
       "143                Africa           Eastern Africa         14438802   \n",
       "\n",
       "     Population 2019 % Change  \n",
       "0           38041754   +2.34%  \n",
       "1            2880917   −0.06%  \n",
       "2           43053054   +1.95%  \n",
       "3              77142   +0.18%  \n",
       "4           31825295   +3.30%  \n",
       "..               ...      ...  \n",
       "139         32981716   +1.56%  \n",
       "140           299882   +2.46%  \n",
       "141         29161922   +2.33%  \n",
       "142         17861030   +2.94%  \n",
       "143         14645468   +1.43%  \n",
       "\n",
       "[144 rows x 15 columns]"
      ]
     },
     "execution_count": 63,
     "metadata": {},
     "output_type": "execute_result"
    }
   ],
   "source": [
    "merged = isocodes.merge(pop, left_on='Country name', right_on='Country/Area')\n",
    "merged"
   ]
  },
  {
   "cell_type": "code",
   "execution_count": 64,
   "id": "f3492d06-98c0-49d0-8893-b09c6510cfb0",
   "metadata": {
    "slideshow": {
     "slide_type": "subslide"
    }
   },
   "outputs": [
    {
     "data": {
      "text/plain": [
       "(144, 15)"
      ]
     },
     "execution_count": 64,
     "metadata": {},
     "output_type": "execute_result"
    }
   ],
   "source": [
    "merged.shape"
   ]
  },
  {
   "cell_type": "markdown",
   "id": "1cfeeb2a-d70a-45b3-ae14-ee30850b2c18",
   "metadata": {
    "slideshow": {
     "slide_type": "slide"
    },
    "user_expressions": []
   },
   "source": [
    "Exercise 3: Merge the dataframes we have created so far to have a unique dataframe that has ISO codes, GDP per capita, and population data"
   ]
  },
  {
   "cell_type": "code",
   "execution_count": 65,
   "id": "2f3d2d57-012c-4936-afff-0f3ded45b1ba",
   "metadata": {
    "slideshow": {
     "slide_type": "subslide"
    }
   },
   "outputs": [
    {
     "data": {
      "text/html": [
       "<div>\n",
       "<style scoped>\n",
       "    .dataframe tbody tr th:only-of-type {\n",
       "        vertical-align: middle;\n",
       "    }\n",
       "\n",
       "    .dataframe tbody tr th {\n",
       "        vertical-align: top;\n",
       "    }\n",
       "\n",
       "    .dataframe thead th {\n",
       "        text-align: right;\n",
       "    }\n",
       "</style>\n",
       "<table border=\"1\" class=\"dataframe\">\n",
       "  <thead>\n",
       "    <tr style=\"text-align: right;\">\n",
       "      <th></th>\n",
       "      <th>Country name</th>\n",
       "      <th>Official state name</th>\n",
       "      <th>Sovereignty</th>\n",
       "      <th>Alpha-2 code</th>\n",
       "      <th>Alpha-3 code</th>\n",
       "      <th>Numeric code</th>\n",
       "      <th>Subdivision code links</th>\n",
       "      <th>Internet ccTLD</th>\n",
       "      <th>Alpha-2 code original</th>\n",
       "      <th>Country/Area</th>\n",
       "      <th>UN Continental Region</th>\n",
       "      <th>UN Statistical Subregion</th>\n",
       "      <th>Population 2018</th>\n",
       "      <th>Population 2019</th>\n",
       "      <th>% Change</th>\n",
       "    </tr>\n",
       "  </thead>\n",
       "  <tbody>\n",
       "    <tr>\n",
       "      <th>0</th>\n",
       "      <td>Afghanistan</td>\n",
       "      <td>The Islamic Republic of Afghanistan</td>\n",
       "      <td>UN member state</td>\n",
       "      <td>AF</td>\n",
       "      <td>AFG</td>\n",
       "      <td>004</td>\n",
       "      <td>ISO 3166-2:AF</td>\n",
       "      <td>.af</td>\n",
       "      <td>.mw-parser-output .monospaced{font-family:mono...</td>\n",
       "      <td>Afghanistan</td>\n",
       "      <td>Asia</td>\n",
       "      <td>Southern Asia</td>\n",
       "      <td>37171921</td>\n",
       "      <td>38041754</td>\n",
       "      <td>+2.34%</td>\n",
       "    </tr>\n",
       "  </tbody>\n",
       "</table>\n",
       "</div>"
      ],
      "text/plain": [
       "  Country name                  Official state name      Sovereignty  \\\n",
       "0  Afghanistan  The Islamic Republic of Afghanistan  UN member state   \n",
       "\n",
       "  Alpha-2 code Alpha-3 code Numeric code Subdivision code links  \\\n",
       "0           AF          AFG          004          ISO 3166-2:AF   \n",
       "\n",
       "  Internet ccTLD                              Alpha-2 code original  \\\n",
       "0            .af  .mw-parser-output .monospaced{font-family:mono...   \n",
       "\n",
       "  Country/Area UN Continental Region UN Statistical Subregion  \\\n",
       "0  Afghanistan                  Asia            Southern Asia   \n",
       "\n",
       "   Population 2018  Population 2019 % Change  \n",
       "0         37171921         38041754   +2.34%  "
      ]
     },
     "execution_count": 65,
     "metadata": {},
     "output_type": "execute_result"
    }
   ],
   "source": [
    "merged.head(1)"
   ]
  },
  {
   "cell_type": "code",
   "execution_count": 66,
   "id": "bd6ee96f-51e1-460e-8217-bd5a4af268c8",
   "metadata": {
    "slideshow": {
     "slide_type": "subslide"
    }
   },
   "outputs": [
    {
     "data": {
      "text/html": [
       "<div>\n",
       "<style scoped>\n",
       "    .dataframe tbody tr th:only-of-type {\n",
       "        vertical-align: middle;\n",
       "    }\n",
       "\n",
       "    .dataframe tbody tr th {\n",
       "        vertical-align: top;\n",
       "    }\n",
       "\n",
       "    .dataframe thead th {\n",
       "        text-align: right;\n",
       "    }\n",
       "</style>\n",
       "<table border=\"1\" class=\"dataframe\">\n",
       "  <thead>\n",
       "    <tr style=\"text-align: right;\">\n",
       "      <th></th>\n",
       "      <th>Country/Territory</th>\n",
       "      <th>UN Region</th>\n",
       "      <th>gdppc_IMF</th>\n",
       "      <th>year_IMF</th>\n",
       "      <th>gdppc_WB</th>\n",
       "      <th>year_WB</th>\n",
       "      <th>gdppc_CIA</th>\n",
       "      <th>year_CIA</th>\n",
       "      <th>country_name</th>\n",
       "    </tr>\n",
       "  </thead>\n",
       "  <tbody>\n",
       "    <tr>\n",
       "      <th>0</th>\n",
       "      <td>Luxembourg *</td>\n",
       "      <td>Europe</td>\n",
       "      <td>141587.0</td>\n",
       "      <td>2022</td>\n",
       "      <td>134754.0</td>\n",
       "      <td>2021</td>\n",
       "      <td>110300</td>\n",
       "      <td>2020</td>\n",
       "      <td>Luxembourg</td>\n",
       "    </tr>\n",
       "  </tbody>\n",
       "</table>\n",
       "</div>"
      ],
      "text/plain": [
       "  Country/Territory UN Region  gdppc_IMF  year_IMF  gdppc_WB  year_WB  \\\n",
       "0      Luxembourg *    Europe   141587.0      2022  134754.0     2021   \n",
       "\n",
       "   gdppc_CIA  year_CIA country_name  \n",
       "0     110300      2020   Luxembourg  "
      ]
     },
     "execution_count": 66,
     "metadata": {},
     "output_type": "execute_result"
    }
   ],
   "source": [
    "gdppc_wiki.head(1)"
   ]
  },
  {
   "cell_type": "code",
   "execution_count": 67,
   "id": "7f7cd5f6-60d1-4ce8-9cc7-b232b19fcb1c",
   "metadata": {
    "slideshow": {
     "slide_type": "subslide"
    }
   },
   "outputs": [
    {
     "data": {
      "text/html": [
       "<div>\n",
       "<style scoped>\n",
       "    .dataframe tbody tr th:only-of-type {\n",
       "        vertical-align: middle;\n",
       "    }\n",
       "\n",
       "    .dataframe tbody tr th {\n",
       "        vertical-align: top;\n",
       "    }\n",
       "\n",
       "    .dataframe thead th {\n",
       "        text-align: right;\n",
       "    }\n",
       "</style>\n",
       "<table border=\"1\" class=\"dataframe\">\n",
       "  <thead>\n",
       "    <tr style=\"text-align: right;\">\n",
       "      <th></th>\n",
       "      <th>Country name</th>\n",
       "      <th>Official state name</th>\n",
       "      <th>Sovereignty</th>\n",
       "      <th>Alpha-2 code</th>\n",
       "      <th>Alpha-3 code</th>\n",
       "      <th>Numeric code</th>\n",
       "      <th>Subdivision code links</th>\n",
       "      <th>Internet ccTLD</th>\n",
       "      <th>Alpha-2 code original</th>\n",
       "      <th>Country/Area</th>\n",
       "      <th>...</th>\n",
       "      <th>% Change</th>\n",
       "      <th>Country/Territory</th>\n",
       "      <th>UN Region</th>\n",
       "      <th>gdppc_IMF</th>\n",
       "      <th>year_IMF</th>\n",
       "      <th>gdppc_WB</th>\n",
       "      <th>year_WB</th>\n",
       "      <th>gdppc_CIA</th>\n",
       "      <th>year_CIA</th>\n",
       "      <th>country_name</th>\n",
       "    </tr>\n",
       "  </thead>\n",
       "  <tbody>\n",
       "    <tr>\n",
       "      <th>0</th>\n",
       "      <td>Afghanistan</td>\n",
       "      <td>The Islamic Republic of Afghanistan</td>\n",
       "      <td>UN member state</td>\n",
       "      <td>AF</td>\n",
       "      <td>AFG</td>\n",
       "      <td>004</td>\n",
       "      <td>ISO 3166-2:AF</td>\n",
       "      <td>.af</td>\n",
       "      <td>.mw-parser-output .monospaced{font-family:mono...</td>\n",
       "      <td>Afghanistan</td>\n",
       "      <td>...</td>\n",
       "      <td>+2.34%</td>\n",
       "      <td>Afghanistan *</td>\n",
       "      <td>Asia</td>\n",
       "      <td>2456.0</td>\n",
       "      <td>2020</td>\n",
       "      <td>2079.0</td>\n",
       "      <td>2020</td>\n",
       "      <td>2000</td>\n",
       "      <td>2020</td>\n",
       "      <td>Afghanistan</td>\n",
       "    </tr>\n",
       "    <tr>\n",
       "      <th>1</th>\n",
       "      <td>Albania</td>\n",
       "      <td>The Republic of Albania</td>\n",
       "      <td>UN member state</td>\n",
       "      <td>AL</td>\n",
       "      <td>ALB</td>\n",
       "      <td>008</td>\n",
       "      <td>ISO 3166-2:AL</td>\n",
       "      <td>.al</td>\n",
       "      <td>AL</td>\n",
       "      <td>Albania</td>\n",
       "      <td>...</td>\n",
       "      <td>−0.06%</td>\n",
       "      <td>Albania *</td>\n",
       "      <td>Europe</td>\n",
       "      <td>17858.0</td>\n",
       "      <td>2022</td>\n",
       "      <td>15646.0</td>\n",
       "      <td>2021</td>\n",
       "      <td>13300</td>\n",
       "      <td>2020</td>\n",
       "      <td>Albania</td>\n",
       "    </tr>\n",
       "    <tr>\n",
       "      <th>2</th>\n",
       "      <td>Algeria</td>\n",
       "      <td>The People's Democratic Republic of Algeria</td>\n",
       "      <td>UN member state</td>\n",
       "      <td>DZ</td>\n",
       "      <td>DZA</td>\n",
       "      <td>012</td>\n",
       "      <td>ISO 3166-2:DZ</td>\n",
       "      <td>.dz</td>\n",
       "      <td>DZ</td>\n",
       "      <td>Algeria</td>\n",
       "      <td>...</td>\n",
       "      <td>+1.95%</td>\n",
       "      <td>Algeria *</td>\n",
       "      <td>Africa</td>\n",
       "      <td>13324.0</td>\n",
       "      <td>2022</td>\n",
       "      <td>12038.0</td>\n",
       "      <td>2021</td>\n",
       "      <td>10700</td>\n",
       "      <td>2020</td>\n",
       "      <td>Algeria</td>\n",
       "    </tr>\n",
       "    <tr>\n",
       "      <th>3</th>\n",
       "      <td>Andorra</td>\n",
       "      <td>The Principality of Andorra</td>\n",
       "      <td>UN member state</td>\n",
       "      <td>AD</td>\n",
       "      <td>AND</td>\n",
       "      <td>020</td>\n",
       "      <td>ISO 3166-2:AD</td>\n",
       "      <td>.ad</td>\n",
       "      <td>AD</td>\n",
       "      <td>Andorra</td>\n",
       "      <td>...</td>\n",
       "      <td>+0.18%</td>\n",
       "      <td>Andorra *</td>\n",
       "      <td>Europe</td>\n",
       "      <td>65372.0</td>\n",
       "      <td>2022</td>\n",
       "      <td>NaN</td>\n",
       "      <td>&lt;NA&gt;</td>\n",
       "      <td>49900</td>\n",
       "      <td>2015</td>\n",
       "      <td>Andorra</td>\n",
       "    </tr>\n",
       "    <tr>\n",
       "      <th>4</th>\n",
       "      <td>Angola</td>\n",
       "      <td>The Republic of Angola</td>\n",
       "      <td>UN member state</td>\n",
       "      <td>AO</td>\n",
       "      <td>AGO</td>\n",
       "      <td>024</td>\n",
       "      <td>ISO 3166-2:AO</td>\n",
       "      <td>.ao</td>\n",
       "      <td>AO</td>\n",
       "      <td>Angola</td>\n",
       "      <td>...</td>\n",
       "      <td>+3.30%</td>\n",
       "      <td>Angola *</td>\n",
       "      <td>Africa</td>\n",
       "      <td>7455.0</td>\n",
       "      <td>2022</td>\n",
       "      <td>6581.0</td>\n",
       "      <td>2021</td>\n",
       "      <td>6200</td>\n",
       "      <td>2020</td>\n",
       "      <td>Angola</td>\n",
       "    </tr>\n",
       "    <tr>\n",
       "      <th>...</th>\n",
       "      <td>...</td>\n",
       "      <td>...</td>\n",
       "      <td>...</td>\n",
       "      <td>...</td>\n",
       "      <td>...</td>\n",
       "      <td>...</td>\n",
       "      <td>...</td>\n",
       "      <td>...</td>\n",
       "      <td>...</td>\n",
       "      <td>...</td>\n",
       "      <td>...</td>\n",
       "      <td>...</td>\n",
       "      <td>...</td>\n",
       "      <td>...</td>\n",
       "      <td>...</td>\n",
       "      <td>...</td>\n",
       "      <td>...</td>\n",
       "      <td>...</td>\n",
       "      <td>...</td>\n",
       "      <td>...</td>\n",
       "      <td>...</td>\n",
       "    </tr>\n",
       "    <tr>\n",
       "      <th>139</th>\n",
       "      <td>Uzbekistan</td>\n",
       "      <td>The Republic of Uzbekistan</td>\n",
       "      <td>UN member state</td>\n",
       "      <td>UZ</td>\n",
       "      <td>UZB</td>\n",
       "      <td>860</td>\n",
       "      <td>ISO 3166-2:UZ</td>\n",
       "      <td>.uz</td>\n",
       "      <td>UZ</td>\n",
       "      <td>Uzbekistan</td>\n",
       "      <td>...</td>\n",
       "      <td>+1.56%</td>\n",
       "      <td>Uzbekistan *</td>\n",
       "      <td>Asia</td>\n",
       "      <td>9478.0</td>\n",
       "      <td>2022</td>\n",
       "      <td>8497.0</td>\n",
       "      <td>2021</td>\n",
       "      <td>7000</td>\n",
       "      <td>2020</td>\n",
       "      <td>Uzbekistan</td>\n",
       "    </tr>\n",
       "    <tr>\n",
       "      <th>140</th>\n",
       "      <td>Vanuatu</td>\n",
       "      <td>The Republic of Vanuatu</td>\n",
       "      <td>UN member state</td>\n",
       "      <td>VU</td>\n",
       "      <td>VUT</td>\n",
       "      <td>548</td>\n",
       "      <td>ISO 3166-2:VU</td>\n",
       "      <td>.vu</td>\n",
       "      <td>VU</td>\n",
       "      <td>Vanuatu</td>\n",
       "      <td>...</td>\n",
       "      <td>+2.46%</td>\n",
       "      <td>Vanuatu *</td>\n",
       "      <td>Oceania</td>\n",
       "      <td>2858.0</td>\n",
       "      <td>2022</td>\n",
       "      <td>3105.0</td>\n",
       "      <td>2021</td>\n",
       "      <td>2800</td>\n",
       "      <td>2020</td>\n",
       "      <td>Vanuatu</td>\n",
       "    </tr>\n",
       "    <tr>\n",
       "      <th>141</th>\n",
       "      <td>Yemen</td>\n",
       "      <td>The Republic of Yemen</td>\n",
       "      <td>UN member state</td>\n",
       "      <td>YE</td>\n",
       "      <td>YEM</td>\n",
       "      <td>887</td>\n",
       "      <td>ISO 3166-2:YE</td>\n",
       "      <td>.ye</td>\n",
       "      <td>YE</td>\n",
       "      <td>Yemen</td>\n",
       "      <td>...</td>\n",
       "      <td>+2.33%</td>\n",
       "      <td>Yemen *</td>\n",
       "      <td>Asia</td>\n",
       "      <td>2136.0</td>\n",
       "      <td>2022</td>\n",
       "      <td>3689.0</td>\n",
       "      <td>2013</td>\n",
       "      <td>2500</td>\n",
       "      <td>2017</td>\n",
       "      <td>Yemen</td>\n",
       "    </tr>\n",
       "    <tr>\n",
       "      <th>142</th>\n",
       "      <td>Zambia</td>\n",
       "      <td>The Republic of Zambia</td>\n",
       "      <td>UN member state</td>\n",
       "      <td>ZM</td>\n",
       "      <td>ZMB</td>\n",
       "      <td>894</td>\n",
       "      <td>ISO 3166-2:ZM</td>\n",
       "      <td>.zm</td>\n",
       "      <td>ZM</td>\n",
       "      <td>Zambia</td>\n",
       "      <td>...</td>\n",
       "      <td>+2.94%</td>\n",
       "      <td>Zambia *</td>\n",
       "      <td>Africa</td>\n",
       "      <td>3808.0</td>\n",
       "      <td>2022</td>\n",
       "      <td>3624.0</td>\n",
       "      <td>2021</td>\n",
       "      <td>3300</td>\n",
       "      <td>2020</td>\n",
       "      <td>Zambia</td>\n",
       "    </tr>\n",
       "    <tr>\n",
       "      <th>143</th>\n",
       "      <td>Zimbabwe</td>\n",
       "      <td>The Republic of Zimbabwe</td>\n",
       "      <td>UN member state</td>\n",
       "      <td>ZW</td>\n",
       "      <td>ZWE</td>\n",
       "      <td>716</td>\n",
       "      <td>ISO 3166-2:ZW</td>\n",
       "      <td>.zw</td>\n",
       "      <td>ZW</td>\n",
       "      <td>Zimbabwe</td>\n",
       "      <td>...</td>\n",
       "      <td>+1.43%</td>\n",
       "      <td>Zimbabwe *</td>\n",
       "      <td>Africa</td>\n",
       "      <td>2555.0</td>\n",
       "      <td>2022</td>\n",
       "      <td>2445.0</td>\n",
       "      <td>2021</td>\n",
       "      <td>2700</td>\n",
       "      <td>2020</td>\n",
       "      <td>Zimbabwe</td>\n",
       "    </tr>\n",
       "  </tbody>\n",
       "</table>\n",
       "<p>144 rows × 24 columns</p>\n",
       "</div>"
      ],
      "text/plain": [
       "    Country name                          Official state name  \\\n",
       "0    Afghanistan          The Islamic Republic of Afghanistan   \n",
       "1        Albania                      The Republic of Albania   \n",
       "2        Algeria  The People's Democratic Republic of Algeria   \n",
       "3        Andorra                  The Principality of Andorra   \n",
       "4         Angola                       The Republic of Angola   \n",
       "..           ...                                          ...   \n",
       "139   Uzbekistan                   The Republic of Uzbekistan   \n",
       "140      Vanuatu                      The Republic of Vanuatu   \n",
       "141        Yemen                        The Republic of Yemen   \n",
       "142       Zambia                       The Republic of Zambia   \n",
       "143     Zimbabwe                     The Republic of Zimbabwe   \n",
       "\n",
       "         Sovereignty Alpha-2 code Alpha-3 code Numeric code  \\\n",
       "0    UN member state           AF          AFG          004   \n",
       "1    UN member state           AL          ALB          008   \n",
       "2    UN member state           DZ          DZA          012   \n",
       "3    UN member state           AD          AND          020   \n",
       "4    UN member state           AO          AGO          024   \n",
       "..               ...          ...          ...          ...   \n",
       "139  UN member state           UZ          UZB          860   \n",
       "140  UN member state           VU          VUT          548   \n",
       "141  UN member state           YE          YEM          887   \n",
       "142  UN member state           ZM          ZMB          894   \n",
       "143  UN member state           ZW          ZWE          716   \n",
       "\n",
       "    Subdivision code links Internet ccTLD  \\\n",
       "0            ISO 3166-2:AF            .af   \n",
       "1            ISO 3166-2:AL            .al   \n",
       "2            ISO 3166-2:DZ            .dz   \n",
       "3            ISO 3166-2:AD            .ad   \n",
       "4            ISO 3166-2:AO            .ao   \n",
       "..                     ...            ...   \n",
       "139          ISO 3166-2:UZ            .uz   \n",
       "140          ISO 3166-2:VU            .vu   \n",
       "141          ISO 3166-2:YE            .ye   \n",
       "142          ISO 3166-2:ZM            .zm   \n",
       "143          ISO 3166-2:ZW            .zw   \n",
       "\n",
       "                                 Alpha-2 code original Country/Area  ...  \\\n",
       "0    .mw-parser-output .monospaced{font-family:mono...  Afghanistan  ...   \n",
       "1                                                   AL      Albania  ...   \n",
       "2                                                   DZ      Algeria  ...   \n",
       "3                                                   AD      Andorra  ...   \n",
       "4                                                   AO       Angola  ...   \n",
       "..                                                 ...          ...  ...   \n",
       "139                                                 UZ   Uzbekistan  ...   \n",
       "140                                                 VU      Vanuatu  ...   \n",
       "141                                                 YE        Yemen  ...   \n",
       "142                                                 ZM       Zambia  ...   \n",
       "143                                                 ZW     Zimbabwe  ...   \n",
       "\n",
       "    % Change Country/Territory  UN Region  gdppc_IMF year_IMF gdppc_WB  \\\n",
       "0     +2.34%     Afghanistan *       Asia     2456.0     2020   2079.0   \n",
       "1     −0.06%         Albania *     Europe    17858.0     2022  15646.0   \n",
       "2     +1.95%         Algeria *     Africa    13324.0     2022  12038.0   \n",
       "3     +0.18%         Andorra *     Europe    65372.0     2022      NaN   \n",
       "4     +3.30%          Angola *     Africa     7455.0     2022   6581.0   \n",
       "..       ...               ...        ...        ...      ...      ...   \n",
       "139   +1.56%      Uzbekistan *       Asia     9478.0     2022   8497.0   \n",
       "140   +2.46%         Vanuatu *    Oceania     2858.0     2022   3105.0   \n",
       "141   +2.33%           Yemen *       Asia     2136.0     2022   3689.0   \n",
       "142   +2.94%          Zambia *     Africa     3808.0     2022   3624.0   \n",
       "143   +1.43%        Zimbabwe *     Africa     2555.0     2022   2445.0   \n",
       "\n",
       "    year_WB  gdppc_CIA  year_CIA  country_name  \n",
       "0      2020       2000      2020   Afghanistan  \n",
       "1      2021      13300      2020       Albania  \n",
       "2      2021      10700      2020       Algeria  \n",
       "3      <NA>      49900      2015       Andorra  \n",
       "4      2021       6200      2020        Angola  \n",
       "..      ...        ...       ...           ...  \n",
       "139    2021       7000      2020    Uzbekistan  \n",
       "140    2021       2800      2020       Vanuatu  \n",
       "141    2013       2500      2017         Yemen  \n",
       "142    2021       3300      2020        Zambia  \n",
       "143    2021       2700      2020      Zimbabwe  \n",
       "\n",
       "[144 rows x 24 columns]"
      ]
     },
     "execution_count": 67,
     "metadata": {},
     "output_type": "execute_result"
    }
   ],
   "source": [
    "merged3 = merged.merge(gdppc_wiki, left_on='Country name', right_on='country_name')\n",
    "merged3"
   ]
  },
  {
   "cell_type": "markdown",
   "id": "ba2b2cdb-2392-440b-a1e6-eb6bd9ab6b80",
   "metadata": {
    "slideshow": {
     "slide_type": "slide"
    },
    "user_expressions": []
   },
   "source": [
    "Exercise 4: Use the os package to create folders to export data and figures. Since you will be using the names of these folders a lot, save their names in variables called path, pathout, and pathgraphs, where path = './data/', pathout = './data/', and pathgraphs = './graphs/'"
   ]
  },
  {
   "cell_type": "code",
   "execution_count": 201,
   "id": "a91cbcca-77e5-4f98-86e8-3b61e32f33a5",
   "metadata": {
    "slideshow": {
     "slide_type": "subslide"
    }
   },
   "outputs": [],
   "source": [
    "path = './data/'"
   ]
  },
  {
   "cell_type": "code",
   "execution_count": 202,
   "id": "83663182-cbed-48d8-80ba-1ca3dddbacfc",
   "metadata": {
    "slideshow": {
     "slide_type": "subslide"
    }
   },
   "outputs": [],
   "source": [
    "pathout = './data/'"
   ]
  },
  {
   "cell_type": "code",
   "execution_count": 203,
   "id": "734dba24-1abb-45a7-9de3-fb56c0cdd4ed",
   "metadata": {
    "slideshow": {
     "slide_type": "subslide"
    }
   },
   "outputs": [],
   "source": [
    "pathgraphs = './graphs/'"
   ]
  },
  {
   "cell_type": "markdown",
   "id": "d87e7b24-8189-4253-9d3c-af74ba45d90f",
   "metadata": {
    "slideshow": {
     "slide_type": "slide"
    },
    "user_expressions": []
   },
   "source": [
    "Exercise 5: Save the dataframe created in Exercise 3 as a CSV, XLSX, and Stata file into the pathout folder. Use a variable called filename = 'Wiki_Data' so you can use similar code to save all file types. Notice only the filetype will change."
   ]
  },
  {
   "cell_type": "code",
   "execution_count": null,
   "id": "98f5a800-926c-40b4-a2c8-7e465924e683",
   "metadata": {
    "slideshow": {
     "slide_type": "skip"
    }
   },
   "outputs": [],
   "source": []
  },
  {
   "cell_type": "code",
   "execution_count": 204,
   "id": "46672e7b-c49e-4f0c-a99b-0ccf661659dc",
   "metadata": {
    "slideshow": {
     "slide_type": "subslide"
    }
   },
   "outputs": [],
   "source": [
    "output_file = os.path.join(pathout, \"Wiki_Data.csv\")"
   ]
  },
  {
   "cell_type": "code",
   "execution_count": 205,
   "id": "7ae4fa21-949d-47e0-b5bf-ef7567aa6eca",
   "metadata": {
    "slideshow": {
     "slide_type": "subslide"
    }
   },
   "outputs": [],
   "source": [
    "merged3.to_csv(output_file, index=False)"
   ]
  },
  {
   "cell_type": "code",
   "execution_count": 206,
   "id": "0c0ecaa7-ed4c-430d-9b1c-8b9e4b4304a4",
   "metadata": {
    "slideshow": {
     "slide_type": "subslide"
    }
   },
   "outputs": [],
   "source": [
    "output_file = os.path.join(pathout, \"Wiki_Data.xlsx\")"
   ]
  },
  {
   "cell_type": "code",
   "execution_count": 207,
   "id": "a5de0e65-5e05-4242-927f-747f6e96c9d3",
   "metadata": {
    "slideshow": {
     "slide_type": "subslide"
    }
   },
   "outputs": [],
   "source": [
    "merged3.to_excel(output_file, index=False)"
   ]
  },
  {
   "cell_type": "code",
   "execution_count": 208,
   "id": "b27799e6-f9c8-47c4-a450-f4fa9c6d8ded",
   "metadata": {
    "slideshow": {
     "slide_type": "subslide"
    }
   },
   "outputs": [],
   "source": [
    "output_file = os.path.join(pathout, \"Wiki_Data.dta\")"
   ]
  },
  {
   "cell_type": "code",
   "execution_count": 209,
   "id": "fd03da44-f6d4-4695-a8d0-63f2910f56d1",
   "metadata": {
    "slideshow": {
     "slide_type": "subslide"
    }
   },
   "outputs": [
    {
     "name": "stderr",
     "output_type": "stream",
     "text": [
      "/opt/anaconda3/lib/python3.9/site-packages/pandas/io/stata.py:2491: InvalidColumnName: \n",
      "Not all pandas column names were valid Stata variable names.\n",
      "The following replacements have been made:\n",
      "\n",
      "    Country name   ->   Country_name\n",
      "    Official state name   ->   Official_state_name\n",
      "    Alpha-2 code   ->   Alpha_2_code\n",
      "    Alpha-3 code   ->   Alpha_3_code\n",
      "    Numeric code   ->   Numeric_code\n",
      "    Subdivision code links   ->   Subdivision_code_links\n",
      "    Internet ccTLD   ->   Internet_ccTLD\n",
      "    Alpha-2 code original   ->   Alpha_2_code_original\n",
      "    Country/Area   ->   Country_Area\n",
      "    UN Continental Region   ->   UN_Continental_Region\n",
      "    UN Statistical Subregion   ->   UN_Statistical_Subregion\n",
      "    Population 2018   ->   Population_2018\n",
      "    Population 2019   ->   Population_2019\n",
      "    % Change   ->   __Change\n",
      "    Country/Territory   ->   Country_Territory\n",
      "    UN Region   ->   UN_Region\n",
      "\n",
      "If this is not what you expect, please make sure you have Stata-compliant\n",
      "column names in your DataFrame (strings only, max 32 characters, only\n",
      "alphanumerics and underscores, no Stata reserved words)\n",
      "\n",
      "  warnings.warn(ws, InvalidColumnName)\n"
     ]
    },
    {
     "ename": "UnicodeEncodeError",
     "evalue": "'latin-1' codec can't encode character '\\u2212' in position 0: ordinal not in range(256)",
     "output_type": "error",
     "traceback": [
      "\u001b[0;31m---------------------------------------------------------------------------\u001b[0m",
      "\u001b[0;31mUnicodeEncodeError\u001b[0m                        Traceback (most recent call last)",
      "Input \u001b[0;32mIn [209]\u001b[0m, in \u001b[0;36m<cell line: 1>\u001b[0;34m()\u001b[0m\n\u001b[0;32m----> 1\u001b[0m \u001b[43mmerged3\u001b[49m\u001b[38;5;241;43m.\u001b[39;49m\u001b[43mto_stata\u001b[49m\u001b[43m(\u001b[49m\u001b[38;5;124;43m'\u001b[39;49m\u001b[38;5;124;43mWiki_Data.dta\u001b[39;49m\u001b[38;5;124;43m'\u001b[39;49m\u001b[43m)\u001b[49m\n",
      "File \u001b[0;32m/opt/anaconda3/lib/python3.9/site-packages/pandas/util/_decorators.py:207\u001b[0m, in \u001b[0;36mdeprecate_kwarg.<locals>._deprecate_kwarg.<locals>.wrapper\u001b[0;34m(*args, **kwargs)\u001b[0m\n\u001b[1;32m    205\u001b[0m     \u001b[38;5;28;01melse\u001b[39;00m:\n\u001b[1;32m    206\u001b[0m         kwargs[new_arg_name] \u001b[38;5;241m=\u001b[39m new_arg_value\n\u001b[0;32m--> 207\u001b[0m \u001b[38;5;28;01mreturn\u001b[39;00m \u001b[43mfunc\u001b[49m\u001b[43m(\u001b[49m\u001b[38;5;241;43m*\u001b[39;49m\u001b[43margs\u001b[49m\u001b[43m,\u001b[49m\u001b[43m \u001b[49m\u001b[38;5;241;43m*\u001b[39;49m\u001b[38;5;241;43m*\u001b[39;49m\u001b[43mkwargs\u001b[49m\u001b[43m)\u001b[49m\n",
      "File \u001b[0;32m/opt/anaconda3/lib/python3.9/site-packages/pandas/core/frame.py:2638\u001b[0m, in \u001b[0;36mDataFrame.to_stata\u001b[0;34m(self, path, convert_dates, write_index, byteorder, time_stamp, data_label, variable_labels, version, convert_strl, compression, storage_options, value_labels)\u001b[0m\n\u001b[1;32m   2634\u001b[0m \u001b[38;5;28;01mif\u001b[39;00m version \u001b[38;5;129;01mis\u001b[39;00m \u001b[38;5;28;01mNone\u001b[39;00m \u001b[38;5;129;01mor\u001b[39;00m version \u001b[38;5;241m>\u001b[39m\u001b[38;5;241m=\u001b[39m \u001b[38;5;241m118\u001b[39m:\n\u001b[1;32m   2635\u001b[0m     \u001b[38;5;66;03m# Specifying the version is only supported for UTF8 (118 or 119)\u001b[39;00m\n\u001b[1;32m   2636\u001b[0m     kwargs[\u001b[38;5;124m\"\u001b[39m\u001b[38;5;124mversion\u001b[39m\u001b[38;5;124m\"\u001b[39m] \u001b[38;5;241m=\u001b[39m version\n\u001b[0;32m-> 2638\u001b[0m writer \u001b[38;5;241m=\u001b[39m \u001b[43mstatawriter\u001b[49m\u001b[43m(\u001b[49m\n\u001b[1;32m   2639\u001b[0m \u001b[43m    \u001b[49m\u001b[43mpath\u001b[49m\u001b[43m,\u001b[49m\n\u001b[1;32m   2640\u001b[0m \u001b[43m    \u001b[49m\u001b[38;5;28;43mself\u001b[39;49m\u001b[43m,\u001b[49m\n\u001b[1;32m   2641\u001b[0m \u001b[43m    \u001b[49m\u001b[43mconvert_dates\u001b[49m\u001b[38;5;241;43m=\u001b[39;49m\u001b[43mconvert_dates\u001b[49m\u001b[43m,\u001b[49m\n\u001b[1;32m   2642\u001b[0m \u001b[43m    \u001b[49m\u001b[43mbyteorder\u001b[49m\u001b[38;5;241;43m=\u001b[39;49m\u001b[43mbyteorder\u001b[49m\u001b[43m,\u001b[49m\n\u001b[1;32m   2643\u001b[0m \u001b[43m    \u001b[49m\u001b[43mtime_stamp\u001b[49m\u001b[38;5;241;43m=\u001b[39;49m\u001b[43mtime_stamp\u001b[49m\u001b[43m,\u001b[49m\n\u001b[1;32m   2644\u001b[0m \u001b[43m    \u001b[49m\u001b[43mdata_label\u001b[49m\u001b[38;5;241;43m=\u001b[39;49m\u001b[43mdata_label\u001b[49m\u001b[43m,\u001b[49m\n\u001b[1;32m   2645\u001b[0m \u001b[43m    \u001b[49m\u001b[43mwrite_index\u001b[49m\u001b[38;5;241;43m=\u001b[39;49m\u001b[43mwrite_index\u001b[49m\u001b[43m,\u001b[49m\n\u001b[1;32m   2646\u001b[0m \u001b[43m    \u001b[49m\u001b[43mvariable_labels\u001b[49m\u001b[38;5;241;43m=\u001b[39;49m\u001b[43mvariable_labels\u001b[49m\u001b[43m,\u001b[49m\n\u001b[1;32m   2647\u001b[0m \u001b[43m    \u001b[49m\u001b[43mcompression\u001b[49m\u001b[38;5;241;43m=\u001b[39;49m\u001b[43mcompression\u001b[49m\u001b[43m,\u001b[49m\n\u001b[1;32m   2648\u001b[0m \u001b[43m    \u001b[49m\u001b[43mstorage_options\u001b[49m\u001b[38;5;241;43m=\u001b[39;49m\u001b[43mstorage_options\u001b[49m\u001b[43m,\u001b[49m\n\u001b[1;32m   2649\u001b[0m \u001b[43m    \u001b[49m\u001b[43mvalue_labels\u001b[49m\u001b[38;5;241;43m=\u001b[39;49m\u001b[43mvalue_labels\u001b[49m\u001b[43m,\u001b[49m\n\u001b[1;32m   2650\u001b[0m \u001b[43m    \u001b[49m\u001b[38;5;241;43m*\u001b[39;49m\u001b[38;5;241;43m*\u001b[39;49m\u001b[43mkwargs\u001b[49m\u001b[43m,\u001b[49m\n\u001b[1;32m   2651\u001b[0m \u001b[43m\u001b[49m\u001b[43m)\u001b[49m\n\u001b[1;32m   2652\u001b[0m writer\u001b[38;5;241m.\u001b[39mwrite_file()\n",
      "File \u001b[0;32m/opt/anaconda3/lib/python3.9/site-packages/pandas/io/stata.py:2282\u001b[0m, in \u001b[0;36mStataWriter.__init__\u001b[0;34m(self, fname, data, convert_dates, write_index, byteorder, time_stamp, data_label, variable_labels, compression, storage_options, value_labels)\u001b[0m\n\u001b[1;32m   2280\u001b[0m \u001b[38;5;28mself\u001b[39m\u001b[38;5;241m.\u001b[39m_converted_names: \u001b[38;5;28mdict\u001b[39m[Hashable, \u001b[38;5;28mstr\u001b[39m] \u001b[38;5;241m=\u001b[39m {}\n\u001b[1;32m   2281\u001b[0m \u001b[38;5;66;03m# attach nobs, nvars, data, varlist, typlist\u001b[39;00m\n\u001b[0;32m-> 2282\u001b[0m \u001b[38;5;28;43mself\u001b[39;49m\u001b[38;5;241;43m.\u001b[39;49m\u001b[43m_prepare_pandas\u001b[49m\u001b[43m(\u001b[49m\u001b[43mdata\u001b[49m\u001b[43m)\u001b[49m\n\u001b[1;32m   2283\u001b[0m \u001b[38;5;28mself\u001b[39m\u001b[38;5;241m.\u001b[39mstorage_options \u001b[38;5;241m=\u001b[39m storage_options\n\u001b[1;32m   2285\u001b[0m \u001b[38;5;28;01mif\u001b[39;00m byteorder \u001b[38;5;129;01mis\u001b[39;00m \u001b[38;5;28;01mNone\u001b[39;00m:\n",
      "File \u001b[0;32m/opt/anaconda3/lib/python3.9/site-packages/pandas/io/stata.py:2561\u001b[0m, in \u001b[0;36mStataWriter._prepare_pandas\u001b[0;34m(self, data)\u001b[0m\n\u001b[1;32m   2558\u001b[0m     dtypes[key] \u001b[38;5;241m=\u001b[39m np\u001b[38;5;241m.\u001b[39mdtype(new_type)\n\u001b[1;32m   2560\u001b[0m \u001b[38;5;66;03m# Verify object arrays are strings and encode to bytes\u001b[39;00m\n\u001b[0;32m-> 2561\u001b[0m \u001b[38;5;28;43mself\u001b[39;49m\u001b[38;5;241;43m.\u001b[39;49m\u001b[43m_encode_strings\u001b[49m\u001b[43m(\u001b[49m\u001b[43m)\u001b[49m\n\u001b[1;32m   2563\u001b[0m \u001b[38;5;28mself\u001b[39m\u001b[38;5;241m.\u001b[39m_set_formats_and_types(dtypes)\n\u001b[1;32m   2565\u001b[0m \u001b[38;5;66;03m# set the given format for the datetime cols\u001b[39;00m\n",
      "File \u001b[0;32m/opt/anaconda3/lib/python3.9/site-packages/pandas/io/stata.py:2600\u001b[0m, in \u001b[0;36mStataWriter._encode_strings\u001b[0;34m(self)\u001b[0m\n\u001b[1;32m   2591\u001b[0m                     col \u001b[38;5;241m=\u001b[39m column\u001b[38;5;241m.\u001b[39mname\n\u001b[1;32m   2592\u001b[0m                     \u001b[38;5;28;01mraise\u001b[39;00m \u001b[38;5;167;01mValueError\u001b[39;00m(\n\u001b[1;32m   2593\u001b[0m                         \u001b[38;5;124mf\u001b[39m\u001b[38;5;124m\"\"\"\u001b[39m\u001b[38;5;130;01m\\\u001b[39;00m\n\u001b[1;32m   2594\u001b[0m \u001b[38;5;124mColumn `\u001b[39m\u001b[38;5;132;01m{\u001b[39;00mcol\u001b[38;5;132;01m}\u001b[39;00m\u001b[38;5;124m` cannot be exported.\u001b[39m\u001b[38;5;130;01m\\n\u001b[39;00m\u001b[38;5;130;01m\\n\u001b[39;00m\u001b[38;5;124mOnly string-like object arrays\u001b[39m\n\u001b[0;32m   (...)\u001b[0m\n\u001b[1;32m   2598\u001b[0m \u001b[38;5;124msupported types.\u001b[39m\u001b[38;5;124m\"\"\"\u001b[39m\n\u001b[1;32m   2599\u001b[0m                     )\n\u001b[0;32m-> 2600\u001b[0m                 encoded \u001b[38;5;241m=\u001b[39m \u001b[38;5;28;43mself\u001b[39;49m\u001b[38;5;241;43m.\u001b[39;49m\u001b[43mdata\u001b[49m\u001b[43m[\u001b[49m\u001b[43mcol\u001b[49m\u001b[43m]\u001b[49m\u001b[38;5;241;43m.\u001b[39;49m\u001b[43mstr\u001b[49m\u001b[38;5;241;43m.\u001b[39;49m\u001b[43mencode\u001b[49m\u001b[43m(\u001b[49m\u001b[38;5;28;43mself\u001b[39;49m\u001b[38;5;241;43m.\u001b[39;49m\u001b[43m_encoding\u001b[49m\u001b[43m)\u001b[49m\n\u001b[1;32m   2601\u001b[0m                 \u001b[38;5;66;03m# If larger than _max_string_length do nothing\u001b[39;00m\n\u001b[1;32m   2602\u001b[0m                 \u001b[38;5;28;01mif\u001b[39;00m (\n\u001b[1;32m   2603\u001b[0m                     max_len_string_array(ensure_object(encoded\u001b[38;5;241m.\u001b[39m_values))\n\u001b[1;32m   2604\u001b[0m                     \u001b[38;5;241m<\u001b[39m\u001b[38;5;241m=\u001b[39m \u001b[38;5;28mself\u001b[39m\u001b[38;5;241m.\u001b[39m_max_string_length\n\u001b[1;32m   2605\u001b[0m                 ):\n",
      "File \u001b[0;32m/opt/anaconda3/lib/python3.9/site-packages/pandas/core/strings/accessor.py:125\u001b[0m, in \u001b[0;36mforbid_nonstring_types.<locals>._forbid_nonstring_types.<locals>.wrapper\u001b[0;34m(self, *args, **kwargs)\u001b[0m\n\u001b[1;32m    120\u001b[0m     msg \u001b[38;5;241m=\u001b[39m (\n\u001b[1;32m    121\u001b[0m         \u001b[38;5;124mf\u001b[39m\u001b[38;5;124m\"\u001b[39m\u001b[38;5;124mCannot use .str.\u001b[39m\u001b[38;5;132;01m{\u001b[39;00mfunc_name\u001b[38;5;132;01m}\u001b[39;00m\u001b[38;5;124m with values of \u001b[39m\u001b[38;5;124m\"\u001b[39m\n\u001b[1;32m    122\u001b[0m         \u001b[38;5;124mf\u001b[39m\u001b[38;5;124m\"\u001b[39m\u001b[38;5;124minferred dtype \u001b[39m\u001b[38;5;124m'\u001b[39m\u001b[38;5;132;01m{\u001b[39;00m\u001b[38;5;28mself\u001b[39m\u001b[38;5;241m.\u001b[39m_inferred_dtype\u001b[38;5;132;01m}\u001b[39;00m\u001b[38;5;124m'\u001b[39m\u001b[38;5;124m.\u001b[39m\u001b[38;5;124m\"\u001b[39m\n\u001b[1;32m    123\u001b[0m     )\n\u001b[1;32m    124\u001b[0m     \u001b[38;5;28;01mraise\u001b[39;00m \u001b[38;5;167;01mTypeError\u001b[39;00m(msg)\n\u001b[0;32m--> 125\u001b[0m \u001b[38;5;28;01mreturn\u001b[39;00m \u001b[43mfunc\u001b[49m\u001b[43m(\u001b[49m\u001b[38;5;28;43mself\u001b[39;49m\u001b[43m,\u001b[49m\u001b[43m \u001b[49m\u001b[38;5;241;43m*\u001b[39;49m\u001b[43margs\u001b[49m\u001b[43m,\u001b[49m\u001b[43m \u001b[49m\u001b[38;5;241;43m*\u001b[39;49m\u001b[38;5;241;43m*\u001b[39;49m\u001b[43mkwargs\u001b[49m\u001b[43m)\u001b[49m\n",
      "File \u001b[0;32m/opt/anaconda3/lib/python3.9/site-packages/pandas/core/strings/accessor.py:1873\u001b[0m, in \u001b[0;36mStringMethods.encode\u001b[0;34m(self, encoding, errors)\u001b[0m\n\u001b[1;32m   1857\u001b[0m \u001b[38;5;129m@forbid_nonstring_types\u001b[39m([\u001b[38;5;124m\"\u001b[39m\u001b[38;5;124mbytes\u001b[39m\u001b[38;5;124m\"\u001b[39m])\n\u001b[1;32m   1858\u001b[0m \u001b[38;5;28;01mdef\u001b[39;00m \u001b[38;5;21mencode\u001b[39m(\u001b[38;5;28mself\u001b[39m, encoding, errors\u001b[38;5;241m=\u001b[39m\u001b[38;5;124m\"\u001b[39m\u001b[38;5;124mstrict\u001b[39m\u001b[38;5;124m\"\u001b[39m):\n\u001b[1;32m   1859\u001b[0m     \u001b[38;5;124;03m\"\"\"\u001b[39;00m\n\u001b[1;32m   1860\u001b[0m \u001b[38;5;124;03m    Encode character string in the Series/Index using indicated encoding.\u001b[39;00m\n\u001b[1;32m   1861\u001b[0m \n\u001b[0;32m   (...)\u001b[0m\n\u001b[1;32m   1871\u001b[0m \u001b[38;5;124;03m    encoded : Series/Index of objects\u001b[39;00m\n\u001b[1;32m   1872\u001b[0m \u001b[38;5;124;03m    \"\"\"\u001b[39;00m\n\u001b[0;32m-> 1873\u001b[0m     result \u001b[38;5;241m=\u001b[39m \u001b[38;5;28;43mself\u001b[39;49m\u001b[38;5;241;43m.\u001b[39;49m\u001b[43m_data\u001b[49m\u001b[38;5;241;43m.\u001b[39;49m\u001b[43marray\u001b[49m\u001b[38;5;241;43m.\u001b[39;49m\u001b[43m_str_encode\u001b[49m\u001b[43m(\u001b[49m\u001b[43mencoding\u001b[49m\u001b[43m,\u001b[49m\u001b[43m \u001b[49m\u001b[43merrors\u001b[49m\u001b[43m)\u001b[49m\n\u001b[1;32m   1874\u001b[0m     \u001b[38;5;28;01mreturn\u001b[39;00m \u001b[38;5;28mself\u001b[39m\u001b[38;5;241m.\u001b[39m_wrap_result(result, returns_string\u001b[38;5;241m=\u001b[39m\u001b[38;5;28;01mFalse\u001b[39;00m)\n",
      "File \u001b[0;32m/opt/anaconda3/lib/python3.9/site-packages/pandas/core/strings/object_array.py:223\u001b[0m, in \u001b[0;36mObjectStringArrayMixin._str_encode\u001b[0;34m(self, encoding, errors)\u001b[0m\n\u001b[1;32m    221\u001b[0m \u001b[38;5;28;01mdef\u001b[39;00m \u001b[38;5;21m_str_encode\u001b[39m(\u001b[38;5;28mself\u001b[39m, encoding, errors\u001b[38;5;241m=\u001b[39m\u001b[38;5;124m\"\u001b[39m\u001b[38;5;124mstrict\u001b[39m\u001b[38;5;124m\"\u001b[39m):\n\u001b[1;32m    222\u001b[0m     f \u001b[38;5;241m=\u001b[39m \u001b[38;5;28;01mlambda\u001b[39;00m x: x\u001b[38;5;241m.\u001b[39mencode(encoding, errors\u001b[38;5;241m=\u001b[39merrors)\n\u001b[0;32m--> 223\u001b[0m     \u001b[38;5;28;01mreturn\u001b[39;00m \u001b[38;5;28;43mself\u001b[39;49m\u001b[38;5;241;43m.\u001b[39;49m\u001b[43m_str_map\u001b[49m\u001b[43m(\u001b[49m\u001b[43mf\u001b[49m\u001b[43m,\u001b[49m\u001b[43m \u001b[49m\u001b[43mdtype\u001b[49m\u001b[38;5;241;43m=\u001b[39;49m\u001b[38;5;28;43mobject\u001b[39;49m\u001b[43m)\u001b[49m\n",
      "File \u001b[0;32m/opt/anaconda3/lib/python3.9/site-packages/pandas/core/strings/object_array.py:71\u001b[0m, in \u001b[0;36mObjectStringArrayMixin._str_map\u001b[0;34m(self, f, na_value, dtype, convert)\u001b[0m\n\u001b[1;32m     69\u001b[0m map_convert \u001b[38;5;241m=\u001b[39m convert \u001b[38;5;129;01mand\u001b[39;00m \u001b[38;5;129;01mnot\u001b[39;00m np\u001b[38;5;241m.\u001b[39mall(mask)\n\u001b[1;32m     70\u001b[0m \u001b[38;5;28;01mtry\u001b[39;00m:\n\u001b[0;32m---> 71\u001b[0m     result \u001b[38;5;241m=\u001b[39m \u001b[43mlib\u001b[49m\u001b[38;5;241;43m.\u001b[39;49m\u001b[43mmap_infer_mask\u001b[49m\u001b[43m(\u001b[49m\u001b[43marr\u001b[49m\u001b[43m,\u001b[49m\u001b[43m \u001b[49m\u001b[43mf\u001b[49m\u001b[43m,\u001b[49m\u001b[43m \u001b[49m\u001b[43mmask\u001b[49m\u001b[38;5;241;43m.\u001b[39;49m\u001b[43mview\u001b[49m\u001b[43m(\u001b[49m\u001b[43mnp\u001b[49m\u001b[38;5;241;43m.\u001b[39;49m\u001b[43muint8\u001b[49m\u001b[43m)\u001b[49m\u001b[43m,\u001b[49m\u001b[43m \u001b[49m\u001b[43mmap_convert\u001b[49m\u001b[43m)\u001b[49m\n\u001b[1;32m     72\u001b[0m \u001b[38;5;28;01mexcept\u001b[39;00m (\u001b[38;5;167;01mTypeError\u001b[39;00m, \u001b[38;5;167;01mAttributeError\u001b[39;00m) \u001b[38;5;28;01mas\u001b[39;00m err:\n\u001b[1;32m     73\u001b[0m     \u001b[38;5;66;03m# Reraise the exception if callable `f` got wrong number of args.\u001b[39;00m\n\u001b[1;32m     74\u001b[0m     \u001b[38;5;66;03m# The user may want to be warned by this, instead of getting NaN\u001b[39;00m\n\u001b[1;32m     75\u001b[0m     p_err \u001b[38;5;241m=\u001b[39m (\n\u001b[1;32m     76\u001b[0m         \u001b[38;5;124mr\u001b[39m\u001b[38;5;124m\"\u001b[39m\u001b[38;5;124m((takes)|(missing)) (?(2)from \u001b[39m\u001b[38;5;124m\\\u001b[39m\u001b[38;5;124md+ to )?\u001b[39m\u001b[38;5;124m\\\u001b[39m\u001b[38;5;124md+ \u001b[39m\u001b[38;5;124m\"\u001b[39m\n\u001b[1;32m     77\u001b[0m         \u001b[38;5;124mr\u001b[39m\u001b[38;5;124m\"\u001b[39m\u001b[38;5;124m(?(3)required )positional arguments?\u001b[39m\u001b[38;5;124m\"\u001b[39m\n\u001b[1;32m     78\u001b[0m     )\n",
      "File \u001b[0;32m/opt/anaconda3/lib/python3.9/site-packages/pandas/_libs/lib.pyx:2822\u001b[0m, in \u001b[0;36mpandas._libs.lib.map_infer_mask\u001b[0;34m()\u001b[0m\n",
      "File \u001b[0;32m/opt/anaconda3/lib/python3.9/site-packages/pandas/core/strings/object_array.py:222\u001b[0m, in \u001b[0;36mObjectStringArrayMixin._str_encode.<locals>.<lambda>\u001b[0;34m(x)\u001b[0m\n\u001b[1;32m    221\u001b[0m \u001b[38;5;28;01mdef\u001b[39;00m \u001b[38;5;21m_str_encode\u001b[39m(\u001b[38;5;28mself\u001b[39m, encoding, errors\u001b[38;5;241m=\u001b[39m\u001b[38;5;124m\"\u001b[39m\u001b[38;5;124mstrict\u001b[39m\u001b[38;5;124m\"\u001b[39m):\n\u001b[0;32m--> 222\u001b[0m     f \u001b[38;5;241m=\u001b[39m \u001b[38;5;28;01mlambda\u001b[39;00m x: \u001b[43mx\u001b[49m\u001b[38;5;241;43m.\u001b[39;49m\u001b[43mencode\u001b[49m\u001b[43m(\u001b[49m\u001b[43mencoding\u001b[49m\u001b[43m,\u001b[49m\u001b[43m \u001b[49m\u001b[43merrors\u001b[49m\u001b[38;5;241;43m=\u001b[39;49m\u001b[43merrors\u001b[49m\u001b[43m)\u001b[49m\n\u001b[1;32m    223\u001b[0m     \u001b[38;5;28;01mreturn\u001b[39;00m \u001b[38;5;28mself\u001b[39m\u001b[38;5;241m.\u001b[39m_str_map(f, dtype\u001b[38;5;241m=\u001b[39m\u001b[38;5;28mobject\u001b[39m)\n",
      "\u001b[0;31mUnicodeEncodeError\u001b[0m: 'latin-1' codec can't encode character '\\u2212' in position 0: ordinal not in range(256)"
     ]
    }
   ],
   "source": [
    "merged3.to_stata('Wiki_Data.dta')"
   ]
  },
  {
   "cell_type": "code",
   "execution_count": 210,
   "id": "8adc60c5-16a7-4607-a827-2c46f0cf2e51",
   "metadata": {
    "slideshow": {
     "slide_type": "subslide"
    }
   },
   "outputs": [
    {
     "name": "stderr",
     "output_type": "stream",
     "text": [
      "/opt/anaconda3/lib/python3.9/site-packages/pandas/io/stata.py:2491: InvalidColumnName: \n",
      "Not all pandas column names were valid Stata variable names.\n",
      "The following replacements have been made:\n",
      "\n",
      "    Country name   ->   Country_name\n",
      "    Official state name   ->   Official_state_name\n",
      "    Alpha-2 code   ->   Alpha_2_code\n",
      "    Alpha-3 code   ->   Alpha_3_code\n",
      "    Numeric code   ->   Numeric_code\n",
      "    Subdivision code links   ->   Subdivision_code_links\n",
      "    Internet ccTLD   ->   Internet_ccTLD\n",
      "    Alpha-2 code original   ->   Alpha_2_code_original\n",
      "    Country/Area   ->   Country_Area\n",
      "    UN Continental Region   ->   UN_Continental_Region\n",
      "    UN Statistical Subregion   ->   UN_Statistical_Subregion\n",
      "    Population 2018   ->   Population_2018\n",
      "    Population 2019   ->   Population_2019\n",
      "    % Change   ->   __Change\n",
      "    Country/Territory   ->   Country_Territory\n",
      "    UN Region   ->   UN_Region\n",
      "\n",
      "If this is not what you expect, please make sure you have Stata-compliant\n",
      "column names in your DataFrame (strings only, max 32 characters, only\n",
      "alphanumerics and underscores, no Stata reserved words)\n",
      "\n",
      "  warnings.warn(ws, InvalidColumnName)\n"
     ]
    },
    {
     "ename": "UnicodeEncodeError",
     "evalue": "'latin-1' codec can't encode character '\\u2212' in position 0: ordinal not in range(256)",
     "output_type": "error",
     "traceback": [
      "\u001b[0;31m---------------------------------------------------------------------------\u001b[0m",
      "\u001b[0;31mUnicodeEncodeError\u001b[0m                        Traceback (most recent call last)",
      "Input \u001b[0;32mIn [210]\u001b[0m, in \u001b[0;36m<cell line: 1>\u001b[0;34m()\u001b[0m\n\u001b[0;32m----> 1\u001b[0m \u001b[43mmerged3\u001b[49m\u001b[38;5;241;43m.\u001b[39;49m\u001b[43mto_stata\u001b[49m\u001b[43m(\u001b[49m\u001b[43moutput_file\u001b[49m\u001b[43m)\u001b[49m\n",
      "File \u001b[0;32m/opt/anaconda3/lib/python3.9/site-packages/pandas/util/_decorators.py:207\u001b[0m, in \u001b[0;36mdeprecate_kwarg.<locals>._deprecate_kwarg.<locals>.wrapper\u001b[0;34m(*args, **kwargs)\u001b[0m\n\u001b[1;32m    205\u001b[0m     \u001b[38;5;28;01melse\u001b[39;00m:\n\u001b[1;32m    206\u001b[0m         kwargs[new_arg_name] \u001b[38;5;241m=\u001b[39m new_arg_value\n\u001b[0;32m--> 207\u001b[0m \u001b[38;5;28;01mreturn\u001b[39;00m \u001b[43mfunc\u001b[49m\u001b[43m(\u001b[49m\u001b[38;5;241;43m*\u001b[39;49m\u001b[43margs\u001b[49m\u001b[43m,\u001b[49m\u001b[43m \u001b[49m\u001b[38;5;241;43m*\u001b[39;49m\u001b[38;5;241;43m*\u001b[39;49m\u001b[43mkwargs\u001b[49m\u001b[43m)\u001b[49m\n",
      "File \u001b[0;32m/opt/anaconda3/lib/python3.9/site-packages/pandas/core/frame.py:2638\u001b[0m, in \u001b[0;36mDataFrame.to_stata\u001b[0;34m(self, path, convert_dates, write_index, byteorder, time_stamp, data_label, variable_labels, version, convert_strl, compression, storage_options, value_labels)\u001b[0m\n\u001b[1;32m   2634\u001b[0m \u001b[38;5;28;01mif\u001b[39;00m version \u001b[38;5;129;01mis\u001b[39;00m \u001b[38;5;28;01mNone\u001b[39;00m \u001b[38;5;129;01mor\u001b[39;00m version \u001b[38;5;241m>\u001b[39m\u001b[38;5;241m=\u001b[39m \u001b[38;5;241m118\u001b[39m:\n\u001b[1;32m   2635\u001b[0m     \u001b[38;5;66;03m# Specifying the version is only supported for UTF8 (118 or 119)\u001b[39;00m\n\u001b[1;32m   2636\u001b[0m     kwargs[\u001b[38;5;124m\"\u001b[39m\u001b[38;5;124mversion\u001b[39m\u001b[38;5;124m\"\u001b[39m] \u001b[38;5;241m=\u001b[39m version\n\u001b[0;32m-> 2638\u001b[0m writer \u001b[38;5;241m=\u001b[39m \u001b[43mstatawriter\u001b[49m\u001b[43m(\u001b[49m\n\u001b[1;32m   2639\u001b[0m \u001b[43m    \u001b[49m\u001b[43mpath\u001b[49m\u001b[43m,\u001b[49m\n\u001b[1;32m   2640\u001b[0m \u001b[43m    \u001b[49m\u001b[38;5;28;43mself\u001b[39;49m\u001b[43m,\u001b[49m\n\u001b[1;32m   2641\u001b[0m \u001b[43m    \u001b[49m\u001b[43mconvert_dates\u001b[49m\u001b[38;5;241;43m=\u001b[39;49m\u001b[43mconvert_dates\u001b[49m\u001b[43m,\u001b[49m\n\u001b[1;32m   2642\u001b[0m \u001b[43m    \u001b[49m\u001b[43mbyteorder\u001b[49m\u001b[38;5;241;43m=\u001b[39;49m\u001b[43mbyteorder\u001b[49m\u001b[43m,\u001b[49m\n\u001b[1;32m   2643\u001b[0m \u001b[43m    \u001b[49m\u001b[43mtime_stamp\u001b[49m\u001b[38;5;241;43m=\u001b[39;49m\u001b[43mtime_stamp\u001b[49m\u001b[43m,\u001b[49m\n\u001b[1;32m   2644\u001b[0m \u001b[43m    \u001b[49m\u001b[43mdata_label\u001b[49m\u001b[38;5;241;43m=\u001b[39;49m\u001b[43mdata_label\u001b[49m\u001b[43m,\u001b[49m\n\u001b[1;32m   2645\u001b[0m \u001b[43m    \u001b[49m\u001b[43mwrite_index\u001b[49m\u001b[38;5;241;43m=\u001b[39;49m\u001b[43mwrite_index\u001b[49m\u001b[43m,\u001b[49m\n\u001b[1;32m   2646\u001b[0m \u001b[43m    \u001b[49m\u001b[43mvariable_labels\u001b[49m\u001b[38;5;241;43m=\u001b[39;49m\u001b[43mvariable_labels\u001b[49m\u001b[43m,\u001b[49m\n\u001b[1;32m   2647\u001b[0m \u001b[43m    \u001b[49m\u001b[43mcompression\u001b[49m\u001b[38;5;241;43m=\u001b[39;49m\u001b[43mcompression\u001b[49m\u001b[43m,\u001b[49m\n\u001b[1;32m   2648\u001b[0m \u001b[43m    \u001b[49m\u001b[43mstorage_options\u001b[49m\u001b[38;5;241;43m=\u001b[39;49m\u001b[43mstorage_options\u001b[49m\u001b[43m,\u001b[49m\n\u001b[1;32m   2649\u001b[0m \u001b[43m    \u001b[49m\u001b[43mvalue_labels\u001b[49m\u001b[38;5;241;43m=\u001b[39;49m\u001b[43mvalue_labels\u001b[49m\u001b[43m,\u001b[49m\n\u001b[1;32m   2650\u001b[0m \u001b[43m    \u001b[49m\u001b[38;5;241;43m*\u001b[39;49m\u001b[38;5;241;43m*\u001b[39;49m\u001b[43mkwargs\u001b[49m\u001b[43m,\u001b[49m\n\u001b[1;32m   2651\u001b[0m \u001b[43m\u001b[49m\u001b[43m)\u001b[49m\n\u001b[1;32m   2652\u001b[0m writer\u001b[38;5;241m.\u001b[39mwrite_file()\n",
      "File \u001b[0;32m/opt/anaconda3/lib/python3.9/site-packages/pandas/io/stata.py:2282\u001b[0m, in \u001b[0;36mStataWriter.__init__\u001b[0;34m(self, fname, data, convert_dates, write_index, byteorder, time_stamp, data_label, variable_labels, compression, storage_options, value_labels)\u001b[0m\n\u001b[1;32m   2280\u001b[0m \u001b[38;5;28mself\u001b[39m\u001b[38;5;241m.\u001b[39m_converted_names: \u001b[38;5;28mdict\u001b[39m[Hashable, \u001b[38;5;28mstr\u001b[39m] \u001b[38;5;241m=\u001b[39m {}\n\u001b[1;32m   2281\u001b[0m \u001b[38;5;66;03m# attach nobs, nvars, data, varlist, typlist\u001b[39;00m\n\u001b[0;32m-> 2282\u001b[0m \u001b[38;5;28;43mself\u001b[39;49m\u001b[38;5;241;43m.\u001b[39;49m\u001b[43m_prepare_pandas\u001b[49m\u001b[43m(\u001b[49m\u001b[43mdata\u001b[49m\u001b[43m)\u001b[49m\n\u001b[1;32m   2283\u001b[0m \u001b[38;5;28mself\u001b[39m\u001b[38;5;241m.\u001b[39mstorage_options \u001b[38;5;241m=\u001b[39m storage_options\n\u001b[1;32m   2285\u001b[0m \u001b[38;5;28;01mif\u001b[39;00m byteorder \u001b[38;5;129;01mis\u001b[39;00m \u001b[38;5;28;01mNone\u001b[39;00m:\n",
      "File \u001b[0;32m/opt/anaconda3/lib/python3.9/site-packages/pandas/io/stata.py:2561\u001b[0m, in \u001b[0;36mStataWriter._prepare_pandas\u001b[0;34m(self, data)\u001b[0m\n\u001b[1;32m   2558\u001b[0m     dtypes[key] \u001b[38;5;241m=\u001b[39m np\u001b[38;5;241m.\u001b[39mdtype(new_type)\n\u001b[1;32m   2560\u001b[0m \u001b[38;5;66;03m# Verify object arrays are strings and encode to bytes\u001b[39;00m\n\u001b[0;32m-> 2561\u001b[0m \u001b[38;5;28;43mself\u001b[39;49m\u001b[38;5;241;43m.\u001b[39;49m\u001b[43m_encode_strings\u001b[49m\u001b[43m(\u001b[49m\u001b[43m)\u001b[49m\n\u001b[1;32m   2563\u001b[0m \u001b[38;5;28mself\u001b[39m\u001b[38;5;241m.\u001b[39m_set_formats_and_types(dtypes)\n\u001b[1;32m   2565\u001b[0m \u001b[38;5;66;03m# set the given format for the datetime cols\u001b[39;00m\n",
      "File \u001b[0;32m/opt/anaconda3/lib/python3.9/site-packages/pandas/io/stata.py:2600\u001b[0m, in \u001b[0;36mStataWriter._encode_strings\u001b[0;34m(self)\u001b[0m\n\u001b[1;32m   2591\u001b[0m                     col \u001b[38;5;241m=\u001b[39m column\u001b[38;5;241m.\u001b[39mname\n\u001b[1;32m   2592\u001b[0m                     \u001b[38;5;28;01mraise\u001b[39;00m \u001b[38;5;167;01mValueError\u001b[39;00m(\n\u001b[1;32m   2593\u001b[0m                         \u001b[38;5;124mf\u001b[39m\u001b[38;5;124m\"\"\"\u001b[39m\u001b[38;5;130;01m\\\u001b[39;00m\n\u001b[1;32m   2594\u001b[0m \u001b[38;5;124mColumn `\u001b[39m\u001b[38;5;132;01m{\u001b[39;00mcol\u001b[38;5;132;01m}\u001b[39;00m\u001b[38;5;124m` cannot be exported.\u001b[39m\u001b[38;5;130;01m\\n\u001b[39;00m\u001b[38;5;130;01m\\n\u001b[39;00m\u001b[38;5;124mOnly string-like object arrays\u001b[39m\n\u001b[0;32m   (...)\u001b[0m\n\u001b[1;32m   2598\u001b[0m \u001b[38;5;124msupported types.\u001b[39m\u001b[38;5;124m\"\"\"\u001b[39m\n\u001b[1;32m   2599\u001b[0m                     )\n\u001b[0;32m-> 2600\u001b[0m                 encoded \u001b[38;5;241m=\u001b[39m \u001b[38;5;28;43mself\u001b[39;49m\u001b[38;5;241;43m.\u001b[39;49m\u001b[43mdata\u001b[49m\u001b[43m[\u001b[49m\u001b[43mcol\u001b[49m\u001b[43m]\u001b[49m\u001b[38;5;241;43m.\u001b[39;49m\u001b[43mstr\u001b[49m\u001b[38;5;241;43m.\u001b[39;49m\u001b[43mencode\u001b[49m\u001b[43m(\u001b[49m\u001b[38;5;28;43mself\u001b[39;49m\u001b[38;5;241;43m.\u001b[39;49m\u001b[43m_encoding\u001b[49m\u001b[43m)\u001b[49m\n\u001b[1;32m   2601\u001b[0m                 \u001b[38;5;66;03m# If larger than _max_string_length do nothing\u001b[39;00m\n\u001b[1;32m   2602\u001b[0m                 \u001b[38;5;28;01mif\u001b[39;00m (\n\u001b[1;32m   2603\u001b[0m                     max_len_string_array(ensure_object(encoded\u001b[38;5;241m.\u001b[39m_values))\n\u001b[1;32m   2604\u001b[0m                     \u001b[38;5;241m<\u001b[39m\u001b[38;5;241m=\u001b[39m \u001b[38;5;28mself\u001b[39m\u001b[38;5;241m.\u001b[39m_max_string_length\n\u001b[1;32m   2605\u001b[0m                 ):\n",
      "File \u001b[0;32m/opt/anaconda3/lib/python3.9/site-packages/pandas/core/strings/accessor.py:125\u001b[0m, in \u001b[0;36mforbid_nonstring_types.<locals>._forbid_nonstring_types.<locals>.wrapper\u001b[0;34m(self, *args, **kwargs)\u001b[0m\n\u001b[1;32m    120\u001b[0m     msg \u001b[38;5;241m=\u001b[39m (\n\u001b[1;32m    121\u001b[0m         \u001b[38;5;124mf\u001b[39m\u001b[38;5;124m\"\u001b[39m\u001b[38;5;124mCannot use .str.\u001b[39m\u001b[38;5;132;01m{\u001b[39;00mfunc_name\u001b[38;5;132;01m}\u001b[39;00m\u001b[38;5;124m with values of \u001b[39m\u001b[38;5;124m\"\u001b[39m\n\u001b[1;32m    122\u001b[0m         \u001b[38;5;124mf\u001b[39m\u001b[38;5;124m\"\u001b[39m\u001b[38;5;124minferred dtype \u001b[39m\u001b[38;5;124m'\u001b[39m\u001b[38;5;132;01m{\u001b[39;00m\u001b[38;5;28mself\u001b[39m\u001b[38;5;241m.\u001b[39m_inferred_dtype\u001b[38;5;132;01m}\u001b[39;00m\u001b[38;5;124m'\u001b[39m\u001b[38;5;124m.\u001b[39m\u001b[38;5;124m\"\u001b[39m\n\u001b[1;32m    123\u001b[0m     )\n\u001b[1;32m    124\u001b[0m     \u001b[38;5;28;01mraise\u001b[39;00m \u001b[38;5;167;01mTypeError\u001b[39;00m(msg)\n\u001b[0;32m--> 125\u001b[0m \u001b[38;5;28;01mreturn\u001b[39;00m \u001b[43mfunc\u001b[49m\u001b[43m(\u001b[49m\u001b[38;5;28;43mself\u001b[39;49m\u001b[43m,\u001b[49m\u001b[43m \u001b[49m\u001b[38;5;241;43m*\u001b[39;49m\u001b[43margs\u001b[49m\u001b[43m,\u001b[49m\u001b[43m \u001b[49m\u001b[38;5;241;43m*\u001b[39;49m\u001b[38;5;241;43m*\u001b[39;49m\u001b[43mkwargs\u001b[49m\u001b[43m)\u001b[49m\n",
      "File \u001b[0;32m/opt/anaconda3/lib/python3.9/site-packages/pandas/core/strings/accessor.py:1873\u001b[0m, in \u001b[0;36mStringMethods.encode\u001b[0;34m(self, encoding, errors)\u001b[0m\n\u001b[1;32m   1857\u001b[0m \u001b[38;5;129m@forbid_nonstring_types\u001b[39m([\u001b[38;5;124m\"\u001b[39m\u001b[38;5;124mbytes\u001b[39m\u001b[38;5;124m\"\u001b[39m])\n\u001b[1;32m   1858\u001b[0m \u001b[38;5;28;01mdef\u001b[39;00m \u001b[38;5;21mencode\u001b[39m(\u001b[38;5;28mself\u001b[39m, encoding, errors\u001b[38;5;241m=\u001b[39m\u001b[38;5;124m\"\u001b[39m\u001b[38;5;124mstrict\u001b[39m\u001b[38;5;124m\"\u001b[39m):\n\u001b[1;32m   1859\u001b[0m     \u001b[38;5;124;03m\"\"\"\u001b[39;00m\n\u001b[1;32m   1860\u001b[0m \u001b[38;5;124;03m    Encode character string in the Series/Index using indicated encoding.\u001b[39;00m\n\u001b[1;32m   1861\u001b[0m \n\u001b[0;32m   (...)\u001b[0m\n\u001b[1;32m   1871\u001b[0m \u001b[38;5;124;03m    encoded : Series/Index of objects\u001b[39;00m\n\u001b[1;32m   1872\u001b[0m \u001b[38;5;124;03m    \"\"\"\u001b[39;00m\n\u001b[0;32m-> 1873\u001b[0m     result \u001b[38;5;241m=\u001b[39m \u001b[38;5;28;43mself\u001b[39;49m\u001b[38;5;241;43m.\u001b[39;49m\u001b[43m_data\u001b[49m\u001b[38;5;241;43m.\u001b[39;49m\u001b[43marray\u001b[49m\u001b[38;5;241;43m.\u001b[39;49m\u001b[43m_str_encode\u001b[49m\u001b[43m(\u001b[49m\u001b[43mencoding\u001b[49m\u001b[43m,\u001b[49m\u001b[43m \u001b[49m\u001b[43merrors\u001b[49m\u001b[43m)\u001b[49m\n\u001b[1;32m   1874\u001b[0m     \u001b[38;5;28;01mreturn\u001b[39;00m \u001b[38;5;28mself\u001b[39m\u001b[38;5;241m.\u001b[39m_wrap_result(result, returns_string\u001b[38;5;241m=\u001b[39m\u001b[38;5;28;01mFalse\u001b[39;00m)\n",
      "File \u001b[0;32m/opt/anaconda3/lib/python3.9/site-packages/pandas/core/strings/object_array.py:223\u001b[0m, in \u001b[0;36mObjectStringArrayMixin._str_encode\u001b[0;34m(self, encoding, errors)\u001b[0m\n\u001b[1;32m    221\u001b[0m \u001b[38;5;28;01mdef\u001b[39;00m \u001b[38;5;21m_str_encode\u001b[39m(\u001b[38;5;28mself\u001b[39m, encoding, errors\u001b[38;5;241m=\u001b[39m\u001b[38;5;124m\"\u001b[39m\u001b[38;5;124mstrict\u001b[39m\u001b[38;5;124m\"\u001b[39m):\n\u001b[1;32m    222\u001b[0m     f \u001b[38;5;241m=\u001b[39m \u001b[38;5;28;01mlambda\u001b[39;00m x: x\u001b[38;5;241m.\u001b[39mencode(encoding, errors\u001b[38;5;241m=\u001b[39merrors)\n\u001b[0;32m--> 223\u001b[0m     \u001b[38;5;28;01mreturn\u001b[39;00m \u001b[38;5;28;43mself\u001b[39;49m\u001b[38;5;241;43m.\u001b[39;49m\u001b[43m_str_map\u001b[49m\u001b[43m(\u001b[49m\u001b[43mf\u001b[49m\u001b[43m,\u001b[49m\u001b[43m \u001b[49m\u001b[43mdtype\u001b[49m\u001b[38;5;241;43m=\u001b[39;49m\u001b[38;5;28;43mobject\u001b[39;49m\u001b[43m)\u001b[49m\n",
      "File \u001b[0;32m/opt/anaconda3/lib/python3.9/site-packages/pandas/core/strings/object_array.py:71\u001b[0m, in \u001b[0;36mObjectStringArrayMixin._str_map\u001b[0;34m(self, f, na_value, dtype, convert)\u001b[0m\n\u001b[1;32m     69\u001b[0m map_convert \u001b[38;5;241m=\u001b[39m convert \u001b[38;5;129;01mand\u001b[39;00m \u001b[38;5;129;01mnot\u001b[39;00m np\u001b[38;5;241m.\u001b[39mall(mask)\n\u001b[1;32m     70\u001b[0m \u001b[38;5;28;01mtry\u001b[39;00m:\n\u001b[0;32m---> 71\u001b[0m     result \u001b[38;5;241m=\u001b[39m \u001b[43mlib\u001b[49m\u001b[38;5;241;43m.\u001b[39;49m\u001b[43mmap_infer_mask\u001b[49m\u001b[43m(\u001b[49m\u001b[43marr\u001b[49m\u001b[43m,\u001b[49m\u001b[43m \u001b[49m\u001b[43mf\u001b[49m\u001b[43m,\u001b[49m\u001b[43m \u001b[49m\u001b[43mmask\u001b[49m\u001b[38;5;241;43m.\u001b[39;49m\u001b[43mview\u001b[49m\u001b[43m(\u001b[49m\u001b[43mnp\u001b[49m\u001b[38;5;241;43m.\u001b[39;49m\u001b[43muint8\u001b[49m\u001b[43m)\u001b[49m\u001b[43m,\u001b[49m\u001b[43m \u001b[49m\u001b[43mmap_convert\u001b[49m\u001b[43m)\u001b[49m\n\u001b[1;32m     72\u001b[0m \u001b[38;5;28;01mexcept\u001b[39;00m (\u001b[38;5;167;01mTypeError\u001b[39;00m, \u001b[38;5;167;01mAttributeError\u001b[39;00m) \u001b[38;5;28;01mas\u001b[39;00m err:\n\u001b[1;32m     73\u001b[0m     \u001b[38;5;66;03m# Reraise the exception if callable `f` got wrong number of args.\u001b[39;00m\n\u001b[1;32m     74\u001b[0m     \u001b[38;5;66;03m# The user may want to be warned by this, instead of getting NaN\u001b[39;00m\n\u001b[1;32m     75\u001b[0m     p_err \u001b[38;5;241m=\u001b[39m (\n\u001b[1;32m     76\u001b[0m         \u001b[38;5;124mr\u001b[39m\u001b[38;5;124m\"\u001b[39m\u001b[38;5;124m((takes)|(missing)) (?(2)from \u001b[39m\u001b[38;5;124m\\\u001b[39m\u001b[38;5;124md+ to )?\u001b[39m\u001b[38;5;124m\\\u001b[39m\u001b[38;5;124md+ \u001b[39m\u001b[38;5;124m\"\u001b[39m\n\u001b[1;32m     77\u001b[0m         \u001b[38;5;124mr\u001b[39m\u001b[38;5;124m\"\u001b[39m\u001b[38;5;124m(?(3)required )positional arguments?\u001b[39m\u001b[38;5;124m\"\u001b[39m\n\u001b[1;32m     78\u001b[0m     )\n",
      "File \u001b[0;32m/opt/anaconda3/lib/python3.9/site-packages/pandas/_libs/lib.pyx:2822\u001b[0m, in \u001b[0;36mpandas._libs.lib.map_infer_mask\u001b[0;34m()\u001b[0m\n",
      "File \u001b[0;32m/opt/anaconda3/lib/python3.9/site-packages/pandas/core/strings/object_array.py:222\u001b[0m, in \u001b[0;36mObjectStringArrayMixin._str_encode.<locals>.<lambda>\u001b[0;34m(x)\u001b[0m\n\u001b[1;32m    221\u001b[0m \u001b[38;5;28;01mdef\u001b[39;00m \u001b[38;5;21m_str_encode\u001b[39m(\u001b[38;5;28mself\u001b[39m, encoding, errors\u001b[38;5;241m=\u001b[39m\u001b[38;5;124m\"\u001b[39m\u001b[38;5;124mstrict\u001b[39m\u001b[38;5;124m\"\u001b[39m):\n\u001b[0;32m--> 222\u001b[0m     f \u001b[38;5;241m=\u001b[39m \u001b[38;5;28;01mlambda\u001b[39;00m x: \u001b[43mx\u001b[49m\u001b[38;5;241;43m.\u001b[39;49m\u001b[43mencode\u001b[49m\u001b[43m(\u001b[49m\u001b[43mencoding\u001b[49m\u001b[43m,\u001b[49m\u001b[43m \u001b[49m\u001b[43merrors\u001b[49m\u001b[38;5;241;43m=\u001b[39;49m\u001b[43merrors\u001b[49m\u001b[43m)\u001b[49m\n\u001b[1;32m    223\u001b[0m     \u001b[38;5;28;01mreturn\u001b[39;00m \u001b[38;5;28mself\u001b[39m\u001b[38;5;241m.\u001b[39m_str_map(f, dtype\u001b[38;5;241m=\u001b[39m\u001b[38;5;28mobject\u001b[39m)\n",
      "\u001b[0;31mUnicodeEncodeError\u001b[0m: 'latin-1' codec can't encode character '\\u2212' in position 0: ordinal not in range(256)"
     ]
    }
   ],
   "source": [
    "merged3.to_stata(output_file)"
   ]
  },
  {
   "cell_type": "markdown",
   "id": "af32087c-8fed-4a4a-8c09-86df711390c9",
   "metadata": {
    "slideshow": {
     "slide_type": "slide"
    }
   },
   "source": [
    "Exercise 6: Create plots showing the relation between GDP per capita and Population. Create all 4 types of possible regression plots and save them as PNG, PDF, and JPG files. Make sure to save them in the folder you created for graphs"
   ]
  },
  {
   "cell_type": "code",
   "execution_count": 196,
   "id": "8ee5fe71-2663-4d9a-aa3c-99066cf96012",
   "metadata": {
    "slideshow": {
     "slide_type": "subslide"
    }
   },
   "outputs": [
    {
     "name": "stderr",
     "output_type": "stream",
     "text": [
      "No artists with labels found to put in legend.  Note that artists whose label start with an underscore are ignored when legend() is called with no argument.\n"
     ]
    },
    {
     "data": {
      "image/png": "[encoded data removed]",
      "text/plain": [
       "<Figure size 720x432 with 1 Axes>"
      ]
     },
     "metadata": {
      "needs_background": "light"
     },
     "output_type": "display_data"
    }
   ],
   "source": [
    "fig, ax = plt.subplots(figsize=(10,6))\n",
    "merged3.plot.scatter(x='Population 2019', y='gdppc_CIA', ax=ax,c='r')\n",
    "ax.set_xlabel('Population')\n",
    "ax.set_ylabel('GDP Per Capita')\n",
    "ax.legend(loc='lower right')\n",
    "plt.savefig('./graphs/Linear-Linear.png')\n",
    "plt.savefig('./graphs/Linear-Linear.pdf')\n",
    "plt.savefig('./graphs/Linear-Linear.jpg')"
   ]
  },
  {
   "cell_type": "code",
   "execution_count": 197,
   "id": "f3619507-a68c-44e7-82bb-e6d047abd4dc",
   "metadata": {
    "slideshow": {
     "slide_type": "subslide"
    }
   },
   "outputs": [
    {
     "name": "stderr",
     "output_type": "stream",
     "text": [
      "No artists with labels found to put in legend.  Note that artists whose label start with an underscore are ignored when legend() is called with no argument.\n"
     ]
    },
    {
     "data": {
      "image/png": "[encoded data removed]",
      "text/plain": [
       "<Figure size 720x432 with 1 Axes>"
      ]
     },
     "metadata": {
      "needs_background": "light"
     },
     "output_type": "display_data"
    }
   ],
   "source": [
    "fig, ax = plt.subplots(figsize=(10,6))\n",
    "merged3.plot.scatter(x='Population 2019', y='gdppc_CIA', ax=ax,c='r')\n",
    "ax.set_xlabel('Population')\n",
    "ax.set_ylabel('GDP Per Capita')\n",
    "ax.legend(loc='lower right')\n",
    "ax.set_xscale(\"log\")\n",
    "plt.savefig('./graphs/Linear-Log.png')\n",
    "plt.savefig('./graphs/Linear-Log.pdf')\n",
    "plt.savefig('./graphs/Linear-Log.jpg')"
   ]
  },
  {
   "cell_type": "code",
   "execution_count": 198,
   "id": "f6f4d3cb-f291-4328-8121-6857f6ea1cef",
   "metadata": {
    "slideshow": {
     "slide_type": "subslide"
    }
   },
   "outputs": [
    {
     "name": "stderr",
     "output_type": "stream",
     "text": [
      "No artists with labels found to put in legend.  Note that artists whose label start with an underscore are ignored when legend() is called with no argument.\n"
     ]
    },
    {
     "data": {
      "image/png": "[encoded data removed]",
      "text/plain": [
       "<Figure size 720x432 with 1 Axes>"
      ]
     },
     "metadata": {
      "needs_background": "light"
     },
     "output_type": "display_data"
    }
   ],
   "source": [
    "fig, ax = plt.subplots(figsize=(10,6))\n",
    "merged3.plot.scatter(x='Population 2019', y='gdppc_CIA', ax=ax,c='r')\n",
    "ax.set_xlabel('Population')\n",
    "ax.set_ylabel('GDP Per Capita')\n",
    "ax.legend(loc='lower right')\n",
    "ax.set_yscale(\"log\")\n",
    "plt.savefig('./graphs/Log-Linear.png')\n",
    "plt.savefig('./graphs/Log-Linear.pdf')\n",
    "plt.savefig('./graphs/Log-Linear.jpg')"
   ]
  },
  {
   "cell_type": "code",
   "execution_count": 199,
   "id": "c9975b88-ea8d-42ca-acf1-ed70e1c5bef1",
   "metadata": {
    "slideshow": {
     "slide_type": "subslide"
    }
   },
   "outputs": [
    {
     "name": "stderr",
     "output_type": "stream",
     "text": [
      "No artists with labels found to put in legend.  Note that artists whose label start with an underscore are ignored when legend() is called with no argument.\n"
     ]
    },
    {
     "data": {
      "image/png": "[encoded data removed]",
      "text/plain": [
       "<Figure size 720x432 with 1 Axes>"
      ]
     },
     "metadata": {
      "needs_background": "light"
     },
     "output_type": "display_data"
    }
   ],
   "source": [
    "fig, ax = plt.subplots(figsize=(10,6))\n",
    "merged3.plot.scatter(x='Population 2019', y='gdppc_CIA', ax=ax,c='r')\n",
    "ax.set_xlabel('Population')\n",
    "ax.set_ylabel('GDP Per Capita')\n",
    "ax.legend(loc='lower right')\n",
    "ax.set_xscale(\"log\")\n",
    "ax.set_yscale(\"log\")\n",
    "plt.savefig('./graphs/Log-Log.png')\n",
    "plt.savefig('./graphs/Log-Log.pdf')\n",
    "plt.savefig('./graphs/Log-Log.jpg')"
   ]
  },
  {
   "cell_type": "markdown",
   "id": "b8cf1d02-32ae-4674-82be-e0dee608a986",
   "metadata": {
    "slideshow": {
     "slide_type": "slide"
    }
   },
   "source": [
    "Exercise 8: Using the notebook create slides for presenting your work and results. Once you have your slides, create a new public repo, publish it, and make sure to create a READ.ME file that show links to the notebook, html, and slides. Also, create the gh-pages branch to have a working slides webpage."
   ]
  },
  {
   "cell_type": "code",
   "execution_count": null,
   "id": "b0199fec-2687-4066-b561-1468ab002d14",
   "metadata": {},
   "outputs": [],
   "source": []
  }
 ],
 "metadata": {
  "celltoolbar": "Slideshow",
  "kernelspec": {
   "display_name": "Python 3 (ipykernel)",
   "language": "python",
   "name": "python3"
  },
  "language_info": {
   "codemirror_mode": {
    "name": "ipython",
    "version": 3
   },
   "file_extension": ".py",
   "mimetype": "text/x-python",
   "name": "python",
   "nbconvert_exporter": "python",
   "pygments_lexer": "ipython3",
   "version": "3.9.12"
  }
 },
 "nbformat": 4,
 "nbformat_minor": 5
}
